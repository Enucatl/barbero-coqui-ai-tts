{
 "cells": [
  {
   "cell_type": "code",
   "execution_count": 1,
   "id": "33f9600d-4eb9-4c7c-8800-8ce8902f44fe",
   "metadata": {},
   "outputs": [],
   "source": [
    "import logging\n",
    "import pathlib\n",
    "import os\n",
    "import tempfile\n",
    "import subprocess\n",
    "\n",
    "import pandas as pd\n",
    "import seaborn\n",
    "import pydub\n",
    "from tqdm.notebook import tqdm\n",
    "from google.cloud import storage\n",
    "from google.cloud import speech\n",
    "\n",
    "\n",
    "tqdm.pandas()\n",
    "logger = logging.getLogger(__name__)"
   ]
  },
  {
   "cell_type": "markdown",
   "id": "bb1e9903-6adc-44fe-9fe2-f778fad9df91",
   "metadata": {},
   "source": [
    "# Constants"
   ]
  },
  {
   "cell_type": "code",
   "execution_count": 2,
   "id": "291f5644-2b36-462b-888b-0b27accf737a",
   "metadata": {},
   "outputs": [],
   "source": [
    "frame_rate = 16000\n",
    "max_chunk_duration_seconds = 10\n",
    "target_normalization_db = -23"
   ]
  },
  {
   "cell_type": "markdown",
   "id": "88af0f4f-c95e-4404-b2a5-db9f5710cec7",
   "metadata": {},
   "source": [
    "# Convert original file to wav"
   ]
  },
  {
   "cell_type": "code",
   "execution_count": 3,
   "id": "83dcf269",
   "metadata": {},
   "outputs": [
    {
     "data": {
      "text/html": [
       "<div>\n",
       "<style scoped>\n",
       "    .dataframe tbody tr th:only-of-type {\n",
       "        vertical-align: middle;\n",
       "    }\n",
       "\n",
       "    .dataframe tbody tr th {\n",
       "        vertical-align: top;\n",
       "    }\n",
       "\n",
       "    .dataframe thead th {\n",
       "        text-align: right;\n",
       "    }\n",
       "</style>\n",
       "<table border=\"1\" class=\"dataframe\">\n",
       "  <thead>\n",
       "    <tr style=\"text-align: right;\">\n",
       "      <th></th>\n",
       "      <th>original_audio</th>\n",
       "      <th>from</th>\n",
       "      <th>to</th>\n",
       "    </tr>\n",
       "  </thead>\n",
       "  <tbody>\n",
       "    <tr>\n",
       "      <th>0</th>\n",
       "      <td>/hd4tb/archivio_barbero/7_La_Prima_Guerra_Mond...</td>\n",
       "      <td>0 days 00:01:22</td>\n",
       "      <td>0 days 01:09:48</td>\n",
       "    </tr>\n",
       "    <tr>\n",
       "      <th>1</th>\n",
       "      <td>/hd4tb/archivio_barbero/8_Come_scoppiano_le_gu...</td>\n",
       "      <td>0 days 00:00:00</td>\n",
       "      <td>0 days 01:07:37</td>\n",
       "    </tr>\n",
       "    <tr>\n",
       "      <th>2</th>\n",
       "      <td>/hd4tb/archivio_barbero/9_La_Guerra_delle_Falk...</td>\n",
       "      <td>0 days 00:00:55</td>\n",
       "      <td>0 days 01:01:36</td>\n",
       "    </tr>\n",
       "  </tbody>\n",
       "</table>\n",
       "</div>"
      ],
      "text/plain": [
       "                                      original_audio            from  \\\n",
       "0  /hd4tb/archivio_barbero/7_La_Prima_Guerra_Mond... 0 days 00:01:22   \n",
       "1  /hd4tb/archivio_barbero/8_Come_scoppiano_le_gu... 0 days 00:00:00   \n",
       "2  /hd4tb/archivio_barbero/9_La_Guerra_delle_Falk... 0 days 00:00:55   \n",
       "\n",
       "               to  \n",
       "0 0 days 01:09:48  \n",
       "1 0 days 01:07:37  \n",
       "2 0 days 01:01:36  "
      ]
     },
     "execution_count": 3,
     "metadata": {},
     "output_type": "execute_result"
    }
   ],
   "source": [
    "lines = pd.read_csv(\"../data/original_files.csv\")\n",
    "lines[\"from\"] = lines[\"from\"].apply(pd.Timedelta)\n",
    "lines[\"to\"] = lines[\"to\"].apply(pd.Timedelta)\n",
    "lines"
   ]
  },
  {
   "cell_type": "code",
   "execution_count": 4,
   "id": "fa1d8273-2e36-4bde-afd3-e8b337d121b8",
   "metadata": {},
   "outputs": [],
   "source": [
    "def convert(row):\n",
    "    input_file = pathlib.Path(row[\"original_audio\"])\n",
    "    folder = input_file.parent\n",
    "    name = input_file.stem\n",
    "    output_name = folder / \"wav\" / f\"{name}.wav\"\n",
    "    sound = pydub.AudioSegment.from_mp3(input_file)\n",
    "    sound = sound.set_channels(1)  # save to mono\n",
    "    # cut the section between from and to\n",
    "    beginning = 1000 * int(row[\"from\"].total_seconds())\n",
    "    end = 1000 * int(row[\"to\"].total_seconds())\n",
    "    sound = sound[beginning:end]\n",
    "    sound.set_frame_rate(frame_rate)\n",
    "    sound.export(output_name, format=\"wav\")\n",
    "    logger.debug(\"converted %s to %s\", input_file, output_name)\n",
    "    return output_name"
   ]
  },
  {
   "cell_type": "code",
   "execution_count": 5,
   "id": "4956982e-8670-48b1-a3fe-2246e16cd1d7",
   "metadata": {},
   "outputs": [
    {
     "data": {
      "application/vnd.jupyter.widget-view+json": {
       "model_id": "b66bff02eb574b1d802dfa754aec3d9b",
       "version_major": 2,
       "version_minor": 0
      },
      "text/plain": [
       "  0%|          | 0/3 [00:00<?, ?it/s]"
      ]
     },
     "metadata": {},
     "output_type": "display_data"
    }
   ],
   "source": [
    "lines[\"wav\"] = lines.progress_apply(convert, axis=1)"
   ]
  },
  {
   "cell_type": "markdown",
   "id": "e52ac5ea-1c4c-4b9a-91b0-72b1f711361f",
   "metadata": {},
   "source": [
    "# Normalize"
   ]
  },
  {
   "cell_type": "code",
   "execution_count": 6,
   "id": "1031cb2c-d597-4d56-90b4-9150b1a76f0d",
   "metadata": {},
   "outputs": [],
   "source": [
    "def normalize(row):\n",
    "    input_file = pathlib.Path(row[\"wav\"])\n",
    "    folder = input_file.parent\n",
    "    name = input_file.stem\n",
    "    output_name = folder / \"normalized_wav\" / f\"{name}.wav\"\n",
    "    # stupid business with using a non-ext4 filesystem\n",
    "    with tempfile.TemporaryDirectory() as tmpdirname:\n",
    "        temp_out_name = pathlib.Path(tmpdirname) / output_name.name\n",
    "        command = f\"ffmpeg-normalize -f --normalization-type rms --target-level {target_normalization_db} {row['wav']} -o {temp_out_name}\"\n",
    "        subprocess.check_call(command, shell=True)\n",
    "        command = f\"mv {temp_out_name} {output_name}\"\n",
    "        subprocess.check_call(command, shell=True)\n",
    "    return output_name"
   ]
  },
  {
   "cell_type": "code",
   "execution_count": 11,
   "id": "e9ca30dd-b976-4380-bb38-59a63634cc64",
   "metadata": {},
   "outputs": [
    {
     "data": {
      "application/vnd.jupyter.widget-view+json": {
       "model_id": "61e4bcc8f7344e1fb75f4bb5be27c898",
       "version_major": 2,
       "version_minor": 0
      },
      "text/plain": [
       "  0%|          | 0/3 [00:00<?, ?it/s]"
      ]
     },
     "metadata": {},
     "output_type": "display_data"
    },
    {
     "name": "stderr",
     "output_type": "stream",
     "text": [
      "mv: preserving times for '/hd4tb/archivio_barbero/wav/normalized_wav/7_La_Prima_Guerra_Mondiale__Come_scoppiano_le_guerre__Barbero_Riserva_Festival_della_Mente_2014.wav': Operation not permitted\n",
      "mv: preserving times for '/hd4tb/archivio_barbero/wav/normalized_wav/8_Come_scoppiano_le_guerre_La_seconda_guerra_mondiale_2014_2.wav': Operation not permitted\n",
      "mv: preserving times for '/hd4tb/archivio_barbero/wav/normalized_wav/9_La_Guerra_delle_Falkland_-_Come_scoppiano_le_guerre_-_Barbero_Riserva_Festival_della_Mente_2014.wav': Operation not permitted\n"
     ]
    }
   ],
   "source": [
    "lines[\"normalized_wav\"] = lines.progress_apply(normalize, axis=1)"
   ]
  },
  {
   "cell_type": "markdown",
   "id": "c1b59a3c-2380-455c-b493-9bc5f119dbd2",
   "metadata": {},
   "source": [
    "# Split wav file into chunks"
   ]
  },
  {
   "cell_type": "code",
   "execution_count": 12,
   "id": "bdc49caf-ad53-4f8b-8e28-7cd61f0a6602",
   "metadata": {},
   "outputs": [],
   "source": [
    "def split_on_silence(row, min_silence_len, silence_thresh):\n",
    "    input_file = row[\"normalized_wav\"]\n",
    "    sound = pydub.AudioSegment.from_file(input_file, format=\"wav\")\n",
    "    chunks = pydub.silence.split_on_silence(\n",
    "        sound,\n",
    "        min_silence_len=min_silence_len,\n",
    "        silence_thresh=silence_thresh,\n",
    "        keep_silence=True,\n",
    "    )\n",
    "    durations = pd.DataFrame(\n",
    "        {\n",
    "            \"chunk\": chunks,\n",
    "            \"duration\": [chunk.duration_seconds for chunk in chunks],\n",
    "        }\n",
    "    )\n",
    "    durations[\"wav\"] = input_file\n",
    "    return durations"
   ]
  },
  {
   "cell_type": "code",
   "execution_count": 13,
   "id": "9bbf6f0e-09d6-4337-af5a-8af4c35b0e5f",
   "metadata": {},
   "outputs": [
    {
     "data": {
      "application/vnd.jupyter.widget-view+json": {
       "model_id": "3c01f59fc8ec428183d8e9cacb79e184",
       "version_major": 2,
       "version_minor": 0
      },
      "text/plain": [
       "  0%|          | 0/3 [00:00<?, ?it/s]"
      ]
     },
     "metadata": {},
     "output_type": "display_data"
    }
   ],
   "source": [
    "chunks = lines.progress_apply(split_on_silence, axis=1, min_silence_len=1400, silence_thresh=-29)"
   ]
  },
  {
   "cell_type": "code",
   "execution_count": 14,
   "id": "035dab00-a20f-4893-89fe-f0999503b678",
   "metadata": {},
   "outputs": [],
   "source": [
    "single_chunks = pd.concat(chunks.tolist()).reset_index()"
   ]
  },
  {
   "cell_type": "code",
   "execution_count": 15,
   "id": "5053af91-3e22-4331-9705-b3208f3c1bb2",
   "metadata": {},
   "outputs": [
    {
     "data": {
      "text/plain": [
       "<AxesSubplot: ylabel='duration'>"
      ]
     },
     "execution_count": 15,
     "metadata": {},
     "output_type": "execute_result"
    },
    {
     "data": {
      "image/png": "[encoded data removed]",
      "text/plain": [
       "<Figure size 640x480 with 1 Axes>"
      ]
     },
     "metadata": {},
     "output_type": "display_data"
    }
   ],
   "source": [
    "seaborn.lineplot(x=single_chunks.index, y=single_chunks.duration)"
   ]
  },
  {
   "cell_type": "code",
   "execution_count": 16,
   "id": "a46f7220-a046-45ed-9b95-3227f5a3ba7b",
   "metadata": {},
   "outputs": [
    {
     "data": {
      "text/plain": [
       "<AxesSubplot: xlabel='duration', ylabel='Count'>"
      ]
     },
     "execution_count": 16,
     "metadata": {},
     "output_type": "execute_result"
    },
    {
     "data": {
      "image/png": "[encoded data removed]",
      "text/plain": [
       "<Figure size 640x480 with 1 Axes>"
      ]
     },
     "metadata": {},
     "output_type": "display_data"
    }
   ],
   "source": [
    "seaborn.histplot(single_chunks.duration)"
   ]
  },
  {
   "cell_type": "code",
   "execution_count": 19,
   "id": "de9a8c8c-2332-4448-b5d2-912b18022bea",
   "metadata": {},
   "outputs": [
    {
     "data": {
      "text/html": [
       "\n",
       "                    <audio controls>\n",
       "                        <source src=\"data:audio/mpeg;base64,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\" type=\"audio/mpeg\"/>\n",
       "                        Your browser does not support the audio element.\n",
       "                    </audio>\n",
       "                  "
      ],
      "text/plain": [
       "<pydub.audio_segment.AudioSegment at 0x7fc8b44b05e0>"
      ]
     },
     "execution_count": 19,
     "metadata": {},
     "output_type": "execute_result"
    }
   ],
   "source": [
    "single_chunks.head()[\"chunk\"].iloc[0]"
   ]
  },
  {
   "cell_type": "code",
   "execution_count": null,
   "id": "3b5822c8-24e9-4597-b532-779537d80ae9",
   "metadata": {},
   "outputs": [],
   "source": [
    "def save_chunk(row):\n",
    "    original_audio = pathlib.Path(row[\"flac\"])\n",
    "    folder = original_audio.parent.parent / \"splits\" / original_audio.stem\n",
    "    folder.mkdir(exist_ok=True, parents=True)\n",
    "    output_name = folder / f\"{row['index']:03}.flac\"\n",
    "    row[\"chunk\"].export(output_name, format=\"flac\")\n",
    "    return output_name"
   ]
  },
  {
   "cell_type": "code",
   "execution_count": null,
   "id": "7ed47c45-b59f-42c9-9486-71ef70c8bd39",
   "metadata": {},
   "outputs": [],
   "source": [
    "single_chunks[\"path\"] = single_chunks.progress_apply(save_chunk, axis=1)"
   ]
  },
  {
   "cell_type": "code",
   "execution_count": null,
   "id": "7b576d86-620f-470a-a768-35268b7e194c",
   "metadata": {},
   "outputs": [],
   "source": [
    "single_chunks[\"flac\"].value_counts()"
   ]
  },
  {
   "cell_type": "code",
   "execution_count": null,
   "id": "e841509a-06a8-4c91-8895-804895176682",
   "metadata": {},
   "outputs": [],
   "source": [
    "single_chunks2 = single_chunks[single_chunks[\"flac\"].apply(str).str.contains(\"seconda\")]"
   ]
  },
  {
   "cell_type": "code",
   "execution_count": null,
   "id": "89f42698-c0a3-4acd-ba15-8d4365e10ed2",
   "metadata": {},
   "outputs": [],
   "source": [
    "single_chunks2[\"path\"] = single_chunks2.progress_apply(save_chunk, axis=1)"
   ]
  },
  {
   "cell_type": "code",
   "execution_count": null,
   "id": "a0bb7aa7-d93e-4ef3-8440-91d878a21f8a",
   "metadata": {},
   "outputs": [],
   "source": [
    "single_chunks2"
   ]
  },
  {
   "cell_type": "markdown",
   "id": "63ddfd52-ef31-440f-a718-1f800983958f",
   "metadata": {},
   "source": [
    "# Upload Files to GCS"
   ]
  },
  {
   "cell_type": "code",
   "execution_count": null,
   "id": "0323470a-d11c-4a37-a4f3-cdeb55a3f364",
   "metadata": {},
   "outputs": [],
   "source": [
    "os.environ[\"GOOGLE_APPLICATION_CREDENTIALS\"] = \"../secrets/barbero-translations-0ea9c0d3c73f.json\"\n",
    "client = storage.Client()\n",
    "bucket = client.bucket(\"barbero-translations\")"
   ]
  },
  {
   "cell_type": "code",
   "execution_count": null,
   "id": "364de442-16b9-4d9f-989b-f5cd451c8b4c",
   "metadata": {},
   "outputs": [],
   "source": [
    "def upload(row, bucket):\n",
    "    blob_name = f\"splits/{pathlib.Path(row['flac']).stem}/{pathlib.Path(row['path']).name}\"\n",
    "    blob = bucket.blob(blob_name)\n",
    "    blob.upload_from_filename(row[\"path\"])\n",
    "    return f\"gs://{bucket.name}/{blob_name}\""
   ]
  },
  {
   "cell_type": "code",
   "execution_count": null,
   "id": "7ce8d282-8436-479d-b461-1d4914e70d16",
   "metadata": {},
   "outputs": [],
   "source": [
    "single_chunks[\"gcs_uri\"] = single_chunks.progress_apply(upload, axis=1, bucket=bucket)"
   ]
  },
  {
   "cell_type": "code",
   "execution_count": null,
   "id": "20857f1a-39d4-4f52-881a-97f68bb1a06b",
   "metadata": {},
   "outputs": [],
   "source": [
    "single_chunks2[\"gcs_uri\"] = single_chunks2.progress_apply(upload, axis=1, bucket=bucket)"
   ]
  },
  {
   "cell_type": "markdown",
   "id": "97b6d2d8-c394-4ab8-87ce-765a4b7356b2",
   "metadata": {},
   "source": [
    "# Speech to Text"
   ]
  },
  {
   "cell_type": "code",
   "execution_count": null,
   "id": "e5e236a9-6955-41c7-b660-68b427ebaf9f",
   "metadata": {},
   "outputs": [],
   "source": [
    "speech_client = speech.SpeechClient()"
   ]
  },
  {
   "cell_type": "code",
   "execution_count": null,
   "id": "3c9845bc-9109-4006-81cb-315b20eb0046",
   "metadata": {},
   "outputs": [],
   "source": [
    "def speech_to_text(row, client):\n",
    "    audio = speech.RecognitionAudio(uri=row[\"gcs_uri\"])\n",
    "    transcription_gcs_uri = row[\"gcs_uri\"].replace(\"splits\", \"transcripts\").replace(\".flac\", \".json\")\n",
    "    config = speech.RecognitionConfig(\n",
    "        language_code=\"it-IT\",\n",
    "        profanity_filter=False,\n",
    "        enable_automatic_punctuation=True,\n",
    "        model=\"latest_short\",\n",
    "    )\n",
    "    output_config = speech.TranscriptOutputConfig(\n",
    "        gcs_uri=transcription_gcs_uri,\n",
    "    )\n",
    "    request = speech.LongRunningRecognizeRequest(config=config, audio=audio, output_config=output_config)\n",
    "    operation = client.long_running_recognize(request=request)\n",
    "    response = operation.result()\n",
    "    row[\"transcription_gcs_uri\"] = transcription_gcs_uri\n",
    "    row[\"response\"] = response\n",
    "    return row"
   ]
  },
  {
   "cell_type": "code",
   "execution_count": null,
   "id": "0a59b856-ad71-4e2a-82ae-2387070bb45b",
   "metadata": {},
   "outputs": [],
   "source": [
    "transcribed = single_chunks.progress_apply(speech_to_text, axis=1, client=speech_client)"
   ]
  },
  {
   "cell_type": "code",
   "execution_count": null,
   "id": "046a509f-735b-4309-9ecd-eeb2d438820a",
   "metadata": {},
   "outputs": [],
   "source": [
    "transcribed2 = single_chunks2.progress_apply(speech_to_text, axis=1, client=speech_client)"
   ]
  },
  {
   "cell_type": "code",
   "execution_count": null,
   "id": "fc3534c4-aefe-44bb-b296-72eb8edd9f7d",
   "metadata": {},
   "outputs": [],
   "source": [
    "transcribed.head(1).transpose()"
   ]
  },
  {
   "cell_type": "code",
   "execution_count": null,
   "id": "ccf9559b-ab91-4400-8891-f8de346ab2f8",
   "metadata": {},
   "outputs": [],
   "source": [
    "transcribed = pd.concat((transcribed[~transcribed[\"flac\"].apply(str).str.contains(\"seconda\")], transcribed2)).sort_values([\"flac\", \"index\"]).reset_index(drop=True)"
   ]
  },
  {
   "cell_type": "markdown",
   "id": "d1ca4177-0bd2-46ad-a418-4e3283399756",
   "metadata": {},
   "source": [
    "# Extract the speech to text results"
   ]
  },
  {
   "cell_type": "code",
   "execution_count": null,
   "id": "8a91ae3d-c95e-4e10-8b6c-b0ba5f4ce033",
   "metadata": {},
   "outputs": [],
   "source": [
    "def extract_result(row):\n",
    "    row[\"transcription\"] = \" \".join(x.alternatives[0].transcript for x in row[\"response\"].results)\n",
    "    row[\"billed_time\"] = row[\"response\"].total_billed_time\n",
    "    return row"
   ]
  },
  {
   "cell_type": "code",
   "execution_count": null,
   "id": "d05acabb-7c26-4001-a34a-e74537693be9",
   "metadata": {},
   "outputs": [],
   "source": [
    "extracted = transcribed.progress_apply(extract_result, axis=1)"
   ]
  },
  {
   "cell_type": "code",
   "execution_count": null,
   "id": "c8482743-8d19-4ad0-b11c-b3c430462121",
   "metadata": {},
   "outputs": [],
   "source": [
    "extracted[[\"transcription\", \"billed_time\", \"duration\"]]"
   ]
  },
  {
   "cell_type": "markdown",
   "id": "dd096f76-8471-4109-86cc-257d25c4c903",
   "metadata": {},
   "source": [
    "Total billed transcription time:"
   ]
  },
  {
   "cell_type": "code",
   "execution_count": null,
   "id": "11e7494f-b9af-4162-bc22-989417c9940b",
   "metadata": {},
   "outputs": [],
   "source": [
    "extracted[\"billed_time\"].sum()"
   ]
  },
  {
   "cell_type": "markdown",
   "id": "a57e63f2-fcd4-4f10-ab08-6af7c024c388",
   "metadata": {},
   "source": [
    "Total audio time:"
   ]
  },
  {
   "cell_type": "code",
   "execution_count": null,
   "id": "d9bbec64-2398-426b-880f-35402999a417",
   "metadata": {},
   "outputs": [],
   "source": [
    "pd.to_timedelta(extracted[\"duration\"].sum(), unit=\"s\")"
   ]
  },
  {
   "cell_type": "markdown",
   "id": "e07105a8-7a5a-4815-b84e-5b495bf8fd0c",
   "metadata": {},
   "source": [
    "# Manually clean the transcription"
   ]
  },
  {
   "cell_type": "code",
   "execution_count": null,
   "id": "257f77a0-d0a3-4981-90d6-655c741f7e87",
   "metadata": {},
   "outputs": [],
   "source": [
    "extracted[\"edited_transcription\"] = extracted[\"transcription\"]\n",
    "extracted[\"barbero\"] = 1\n",
    "extracted[[\"barbero\", \"edited_transcription\", \"path\"]].to_csv(\"../data/extracted2.csv\")"
   ]
  },
  {
   "cell_type": "code",
   "execution_count": null,
   "id": "c3628ab1-d939-4c0d-854b-de167cc07201",
   "metadata": {},
   "outputs": [],
   "source": [
    "cleaned = pd.read_csv(\"../data/extracted.csv\").rename(columns={\"Unnamed: 0\": \"index\"}).astype({\"index\": \"Int64\"}).sort_values(\"index\")"
   ]
  },
  {
   "cell_type": "code",
   "execution_count": null,
   "id": "b6d5b52d-7106-465e-aa94-56e69552ec2f",
   "metadata": {},
   "outputs": [],
   "source": [
    "cleaned"
   ]
  },
  {
   "cell_type": "code",
   "execution_count": null,
   "id": "40b4e290-0a6c-4db9-9607-e5982e9a2b6f",
   "metadata": {},
   "outputs": [],
   "source": [
    "extracted[\"path\"] = extracted[\"path\"].apply(str)\n",
    "merged = pd.merge(\n",
    "    extracted.drop(columns=[\"edited_transcription\", \"barbero\", \"index\"]),\n",
    "    cleaned,\n",
    "    on=[\"path\"],\n",
    "    how=\"left\",\n",
    ")"
   ]
  },
  {
   "cell_type": "code",
   "execution_count": null,
   "id": "bbdf8e5c-db29-42d9-bb55-6505e6d772ca",
   "metadata": {},
   "outputs": [],
   "source": [
    "merged"
   ]
  },
  {
   "cell_type": "code",
   "execution_count": null,
   "id": "aebde52b-c4dc-4aca-ae94-79654be4413d",
   "metadata": {},
   "outputs": [],
   "source": [
    "merged.to_pickle(\"../data/merged.pkl.gz\")"
   ]
  },
  {
   "cell_type": "code",
   "execution_count": null,
   "id": "f8286a5f-624f-4495-a606-4c988fa925ab",
   "metadata": {},
   "outputs": [],
   "source": [
    "def write_wavs(row):\n",
    "    path = pathlib.Path(row['path'])\n",
    "    folder = pathlib.Path(f\"/ssd500gb/archivio_barbero/split_wav/{path.parent.name}\")\n",
    "    folder.mkdir(exist_ok=True, parents=True)\n",
    "    output_name = f\"{folder}/{path.stem}.wav\"\n",
    "    chunk = row[\"chunk\"]\n",
    "    chunk.set_frame_rate(16000).export(output_name, format=\"wav\")\n",
    "    return output_name"
   ]
  },
  {
   "cell_type": "code",
   "execution_count": null,
   "id": "7cc66025-aec4-40c8-bd79-f5fc2e2a4925",
   "metadata": {},
   "outputs": [],
   "source": [
    "merged[\"audio_file\"] = merged.progress_apply(write_wavs, axis=1)"
   ]
  },
  {
   "cell_type": "code",
   "execution_count": null,
   "id": "2b7fd370-9651-42af-8b47-9434cf4c2c38",
   "metadata": {},
   "outputs": [],
   "source": [
    "final = merged[merged[\"barbero\"].astype(bool)][[\"audio_file\", \"edited_transcription\"]].rename(columns={\"edited_transcription\": \"text\"})\n",
    "final[\"audio_file\"] = final[\"audio_file\"].apply(lambda x: pathlib.Path(x).relative_to(pathlib.Path(x).parent.parent))"
   ]
  },
  {
   "cell_type": "markdown",
   "id": "30f01289-2109-49b8-9b5a-7f3530f679c3",
   "metadata": {},
   "source": [
    "# Transcribe numbers"
   ]
  },
  {
   "cell_type": "code",
   "execution_count": null,
   "id": "2f813c68-39be-4057-8d98-774a586f5e5f",
   "metadata": {},
   "outputs": [],
   "source": [
    "import re\n",
    "from num2words import num2words\n",
    "\n",
    "\n",
    "def transcribe_numbers(row):\n",
    "    text = row[\"text\"]\n",
    "    numbers = re.findall(\"[0-9]+\", text)\n",
    "    if numbers:\n",
    "        for number in numbers:\n",
    "            transcribed = num2words(int(number), lang=\"it\")\n",
    "            text = text.replace(number, transcribed)\n",
    "    return text"
   ]
  },
  {
   "cell_type": "code",
   "execution_count": null,
   "id": "8d855751-7321-448e-afa0-ad9075b8039a",
   "metadata": {},
   "outputs": [],
   "source": [
    "final[\"text\"] = final.progress_apply(transcribe_numbers, axis=1)"
   ]
  },
  {
   "cell_type": "code",
   "execution_count": null,
   "id": "ea9b52ff-bfef-4ed5-a5b8-f34031ca4223",
   "metadata": {},
   "outputs": [],
   "source": [
    "final.to_csv(\"../data/audio_metadata.csv\", sep=\"|\", index=False)"
   ]
  }
 ],
 "metadata": {
  "kernelspec": {
   "display_name": "Python 3 (ipykernel)",
   "language": "python",
   "name": "python3"
  },
  "language_info": {
   "codemirror_mode": {
    "name": "ipython",
    "version": 3
   },
   "file_extension": ".py",
   "mimetype": "text/x-python",
   "name": "python",
   "nbconvert_exporter": "python",
   "pygments_lexer": "ipython3",
   "version": "3.10.7"
  }
 },
 "nbformat": 4,
 "nbformat_minor": 5
}
