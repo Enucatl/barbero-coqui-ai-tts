{
 "cells": [
  {
   "cell_type": "code",
   "execution_count": 11,
   "id": "33f9600d-4eb9-4c7c-8800-8ce8902f44fe",
   "metadata": {},
   "outputs": [],
   "source": [
    "import logging\n",
    "import pathlib\n",
    "import os\n",
    "import tempfile\n",
    "import subprocess\n",
    "import time \n",
    "import json\n",
    "import concurrent.futures\n",
    "\n",
    "import pandas as pd\n",
    "import seaborn\n",
    "import pydub\n",
    "from tqdm.notebook import tqdm\n",
    "import boto3\n",
    "\n",
    "\n",
    "tqdm.pandas()\n",
    "logger = logging.getLogger(__name__)"
   ]
  },
  {
   "cell_type": "markdown",
   "id": "bb1e9903-6adc-44fe-9fe2-f778fad9df91",
   "metadata": {},
   "source": [
    "# Constants"
   ]
  },
  {
   "cell_type": "code",
   "execution_count": 3,
   "id": "291f5644-2b36-462b-888b-0b27accf737a",
   "metadata": {},
   "outputs": [],
   "source": [
    "bucket = \"barbero-tts2\"\n",
    "region = \"eu-central-1\"\n",
    "vocabulary_file = pathlib.Path(\"vocabulary/vocabulary.txt\")\n",
    "vocabulary_name = \"barbero-guerre\"\n",
    "data_local = pathlib.Path(\"../data\")\n",
    "frame_rate = 16000\n",
    "max_chunk_duration_seconds = 10\n",
    "target_normalization_db = -23"
   ]
  },
  {
   "cell_type": "code",
   "execution_count": 89,
   "id": "c5ad8efc-6b19-4365-bdc0-1839b00a2e44",
   "metadata": {
    "tags": []
   },
   "outputs": [],
   "source": [
    "boto3.setup_default_session(region_name=region)"
   ]
  },
  {
   "cell_type": "markdown",
   "id": "88af0f4f-c95e-4404-b2a5-db9f5710cec7",
   "metadata": {},
   "source": [
    "# Convert original file to wav"
   ]
  },
  {
   "cell_type": "code",
   "execution_count": 3,
   "id": "83dcf269",
   "metadata": {},
   "outputs": [
    {
     "data": {
      "text/html": [
       "<div>\n",
       "<style scoped>\n",
       "    .dataframe tbody tr th:only-of-type {\n",
       "        vertical-align: middle;\n",
       "    }\n",
       "\n",
       "    .dataframe tbody tr th {\n",
       "        vertical-align: top;\n",
       "    }\n",
       "\n",
       "    .dataframe thead th {\n",
       "        text-align: right;\n",
       "    }\n",
       "</style>\n",
       "<table border=\"1\" class=\"dataframe\">\n",
       "  <thead>\n",
       "    <tr style=\"text-align: right;\">\n",
       "      <th></th>\n",
       "      <th>original_audio</th>\n",
       "      <th>from</th>\n",
       "      <th>to</th>\n",
       "    </tr>\n",
       "  </thead>\n",
       "  <tbody>\n",
       "    <tr>\n",
       "      <th>0</th>\n",
       "      <td>/hd4tb/archivio_barbero/7_La_Prima_Guerra_Mond...</td>\n",
       "      <td>0 days 00:01:23</td>\n",
       "      <td>0 days 01:09:48</td>\n",
       "    </tr>\n",
       "    <tr>\n",
       "      <th>1</th>\n",
       "      <td>/hd4tb/archivio_barbero/8_Come_scoppiano_le_gu...</td>\n",
       "      <td>0 days 00:00:00</td>\n",
       "      <td>0 days 01:07:37</td>\n",
       "    </tr>\n",
       "    <tr>\n",
       "      <th>2</th>\n",
       "      <td>/hd4tb/archivio_barbero/9_La_Guerra_delle_Falk...</td>\n",
       "      <td>0 days 00:00:55</td>\n",
       "      <td>0 days 01:01:36</td>\n",
       "    </tr>\n",
       "  </tbody>\n",
       "</table>\n",
       "</div>"
      ],
      "text/plain": [
       "                                      original_audio            from  \\\n",
       "0  /hd4tb/archivio_barbero/7_La_Prima_Guerra_Mond... 0 days 00:01:23   \n",
       "1  /hd4tb/archivio_barbero/8_Come_scoppiano_le_gu... 0 days 00:00:00   \n",
       "2  /hd4tb/archivio_barbero/9_La_Guerra_delle_Falk... 0 days 00:00:55   \n",
       "\n",
       "               to  \n",
       "0 0 days 01:09:48  \n",
       "1 0 days 01:07:37  \n",
       "2 0 days 01:01:36  "
      ]
     },
     "execution_count": 3,
     "metadata": {},
     "output_type": "execute_result"
    }
   ],
   "source": [
    "lines = pd.read_csv(\"../data/original_files.csv\")\n",
    "lines[\"from\"] = lines[\"from\"].apply(pd.Timedelta)\n",
    "lines[\"to\"] = lines[\"to\"].apply(pd.Timedelta)\n",
    "lines"
   ]
  },
  {
   "cell_type": "code",
   "execution_count": 4,
   "id": "fa1d8273-2e36-4bde-afd3-e8b337d121b8",
   "metadata": {},
   "outputs": [],
   "source": [
    "def convert(row):\n",
    "    input_file = pathlib.Path(row[\"original_audio\"])\n",
    "    folder = input_file.parent\n",
    "    name = input_file.stem\n",
    "    output_name = folder / \"wav\" / f\"{name}.wav\"\n",
    "    sound = pydub.AudioSegment.from_mp3(input_file)\n",
    "    sound = sound.set_channels(1)  # save to mono\n",
    "    # cut the section between from and to\n",
    "    beginning = 1000 * int(row[\"from\"].total_seconds())\n",
    "    end = 1000 * int(row[\"to\"].total_seconds())\n",
    "    sound = sound[beginning:end]\n",
    "    sound.set_frame_rate(frame_rate)\n",
    "    sound.export(output_name, format=\"wav\")\n",
    "    logger.debug(\"converted %s to %s\", input_file, output_name)\n",
    "    return output_name"
   ]
  },
  {
   "cell_type": "code",
   "execution_count": 5,
   "id": "4956982e-8670-48b1-a3fe-2246e16cd1d7",
   "metadata": {},
   "outputs": [
    {
     "data": {
      "application/vnd.jupyter.widget-view+json": {
       "model_id": "df9bfb9e88a04f68b487d2d841451555",
       "version_major": 2,
       "version_minor": 0
      },
      "text/plain": [
       "  0%|          | 0/3 [00:00<?, ?it/s]"
      ]
     },
     "metadata": {},
     "output_type": "display_data"
    }
   ],
   "source": [
    "lines[\"wav\"] = lines.progress_apply(convert, axis=1)"
   ]
  },
  {
   "cell_type": "markdown",
   "id": "e52ac5ea-1c4c-4b9a-91b0-72b1f711361f",
   "metadata": {},
   "source": [
    "# Normalize"
   ]
  },
  {
   "cell_type": "code",
   "execution_count": 6,
   "id": "1031cb2c-d597-4d56-90b4-9150b1a76f0d",
   "metadata": {},
   "outputs": [],
   "source": [
    "def normalize(row):\n",
    "    input_file = pathlib.Path(row[\"wav\"])\n",
    "    folder = input_file.parent\n",
    "    name = input_file.stem\n",
    "    output_name = folder / \"normalized_wav\" / f\"{name}.wav\"\n",
    "    # stupid business with using a non-ext4 filesystem\n",
    "    with tempfile.TemporaryDirectory() as tmpdirname:\n",
    "        temp_out_name = pathlib.Path(tmpdirname) / output_name.name\n",
    "        command = f\"ffmpeg-normalize -f --normalization-type rms --target-level {target_normalization_db} {row['wav']} -o {temp_out_name}\"\n",
    "        subprocess.check_call(command, shell=True)\n",
    "        command = f\"mv {temp_out_name} {output_name}\"\n",
    "        subprocess.check_call(command, shell=True)\n",
    "    return output_name"
   ]
  },
  {
   "cell_type": "code",
   "execution_count": 7,
   "id": "e9ca30dd-b976-4380-bb38-59a63634cc64",
   "metadata": {},
   "outputs": [
    {
     "data": {
      "application/vnd.jupyter.widget-view+json": {
       "model_id": "4d3961a99f1b4efaabc4c05cedc76e2f",
       "version_major": 2,
       "version_minor": 0
      },
      "text/plain": [
       "  0%|          | 0/3 [00:00<?, ?it/s]"
      ]
     },
     "metadata": {},
     "output_type": "display_data"
    },
    {
     "name": "stderr",
     "output_type": "stream",
     "text": [
      "mv: preserving times for '/hd4tb/archivio_barbero/wav/normalized_wav/7_La_Prima_Guerra_Mondiale__Come_scoppiano_le_guerre__Barbero_Riserva_Festival_della_Mente_2014.wav': Operation not permitted\n",
      "mv: preserving times for '/hd4tb/archivio_barbero/wav/normalized_wav/8_Come_scoppiano_le_guerre_La_seconda_guerra_mondiale_2014_2.wav': Operation not permitted\n",
      "mv: preserving times for '/hd4tb/archivio_barbero/wav/normalized_wav/9_La_Guerra_delle_Falkland_-_Come_scoppiano_le_guerre_-_Barbero_Riserva_Festival_della_Mente_2014.wav': Operation not permitted\n"
     ]
    }
   ],
   "source": [
    "lines[\"normalized_wav\"] = lines.progress_apply(normalize, axis=1)"
   ]
  },
  {
   "cell_type": "markdown",
   "id": "c1b59a3c-2380-455c-b493-9bc5f119dbd2",
   "metadata": {},
   "source": [
    "# Split wav file into chunks"
   ]
  },
  {
   "cell_type": "code",
   "execution_count": 8,
   "id": "b305a5e2-c4e9-4960-899e-f93a075ad37e",
   "metadata": {},
   "outputs": [],
   "source": [
    "def load_sound(row):\n",
    "    sound = pydub.AudioSegment.from_file(row[\"normalized_wav\"], format=\"wav\")\n",
    "    return sound"
   ]
  },
  {
   "cell_type": "code",
   "execution_count": 9,
   "id": "7dd009a5-bc42-4f24-9699-4e2960b34ce8",
   "metadata": {},
   "outputs": [],
   "source": [
    "lines[\"sound\"] = lines.apply(load_sound, axis=1)"
   ]
  },
  {
   "cell_type": "code",
   "execution_count": 25,
   "id": "ea080134-bd42-4211-b401-cce4342a7708",
   "metadata": {},
   "outputs": [],
   "source": [
    "def split_row_on_silence(row, min_silence_len, silence_thresh):\n",
    "    chunks = pydub.silence.split_on_silence(\n",
    "        row[\"sound\"],\n",
    "        min_silence_len=min_silence_len,\n",
    "        silence_thresh=silence_thresh,\n",
    "        keep_silence=True,\n",
    "    )\n",
    "    durations = pd.DataFrame(\n",
    "        {\n",
    "            \"sound\": chunks,\n",
    "            \"duration\": [chunk.duration_seconds for chunk in chunks],\n",
    "        }\n",
    "    )\n",
    "    durations[\"normalized_wav\"] = row[\"normalized_wav\"]\n",
    "    return durations\n",
    "\n",
    "def split_on_silence(df, max_chunk_duration_seconds, initial_min_silence_len, min_silence_len_steps, silence_thresh):\n",
    "    chunks = df.progress_apply(\n",
    "        split_row_on_silence,\n",
    "        axis=1,\n",
    "        min_silence_len=initial_min_silence_len,\n",
    "        silence_thresh=silence_thresh\n",
    "    )\n",
    "    output = pd.concat(chunks.tolist()).reset_index(drop=True)\n",
    "    too_long = output[output[\"duration\"] > max_chunk_duration_seconds]\n",
    "    ok_length = output[output[\"duration\"] <= max_chunk_duration_seconds]\n",
    "    if too_long.empty:\n",
    "        return ok_length\n",
    "    elif (initial_min_silence_len - min_silence_len_steps) < 0:\n",
    "        return output\n",
    "    else:\n",
    "        fixed_output = pd.concat((\n",
    "            ok_length,\n",
    "            split_on_silence(\n",
    "                df=too_long,\n",
    "                max_chunk_duration_seconds=max_chunk_duration_seconds,\n",
    "                initial_min_silence_len=initial_min_silence_len - min_silence_len_steps,\n",
    "                min_silence_len_steps=min_silence_len_steps,\n",
    "                silence_thresh=silence_thresh\n",
    "            ))).reset_index(drop=True)\n",
    "        return fixed_output"
   ]
  },
  {
   "cell_type": "code",
   "execution_count": 26,
   "id": "9bbf6f0e-09d6-4337-af5a-8af4c35b0e5f",
   "metadata": {},
   "outputs": [
    {
     "data": {
      "application/vnd.jupyter.widget-view+json": {
       "model_id": "b7721b88f64e4e9db22142e6929f3e4e",
       "version_major": 2,
       "version_minor": 0
      },
      "text/plain": [
       "  0%|          | 0/3 [00:00<?, ?it/s]"
      ]
     },
     "metadata": {},
     "output_type": "display_data"
    },
    {
     "data": {
      "application/vnd.jupyter.widget-view+json": {
       "model_id": "4a19a63c858d46e6abcd651323411d9c",
       "version_major": 2,
       "version_minor": 0
      },
      "text/plain": [
       "  0%|          | 0/418 [00:00<?, ?it/s]"
      ]
     },
     "metadata": {},
     "output_type": "display_data"
    },
    {
     "data": {
      "application/vnd.jupyter.widget-view+json": {
       "model_id": "7533b2f50a5a49c4a7d1e42e0d1431cd",
       "version_major": 2,
       "version_minor": 0
      },
      "text/plain": [
       "  0%|          | 0/324 [00:00<?, ?it/s]"
      ]
     },
     "metadata": {},
     "output_type": "display_data"
    },
    {
     "data": {
      "application/vnd.jupyter.widget-view+json": {
       "model_id": "b3ea4699e2364d0dacf4288ca281bc96",
       "version_major": 2,
       "version_minor": 0
      },
      "text/plain": [
       "  0%|          | 0/163 [00:00<?, ?it/s]"
      ]
     },
     "metadata": {},
     "output_type": "display_data"
    },
    {
     "data": {
      "application/vnd.jupyter.widget-view+json": {
       "model_id": "2f1beb793b8b4a8996af375cb7253d72",
       "version_major": 2,
       "version_minor": 0
      },
      "text/plain": [
       "  0%|          | 0/30 [00:00<?, ?it/s]"
      ]
     },
     "metadata": {},
     "output_type": "display_data"
    }
   ],
   "source": [
    "chunks = split_on_silence(\n",
    "    lines,\n",
    "    max_chunk_duration_seconds,\n",
    "    initial_min_silence_len=1500,\n",
    "    min_silence_len_steps=300,\n",
    "    silence_thresh=-29\n",
    ")"
   ]
  },
  {
   "cell_type": "code",
   "execution_count": 27,
   "id": "035dab00-a20f-4893-89fe-f0999503b678",
   "metadata": {},
   "outputs": [
    {
     "name": "stdout",
     "output_type": "stream",
     "text": [
      "<class 'pandas.core.frame.DataFrame'>\n",
      "RangeIndex: 2386 entries, 0 to 2385\n",
      "Data columns (total 3 columns):\n",
      " #   Column          Non-Null Count  Dtype  \n",
      "---  ------          --------------  -----  \n",
      " 0   sound           2386 non-null   object \n",
      " 1   duration        2386 non-null   float64\n",
      " 2   normalized_wav  2386 non-null   object \n",
      "dtypes: float64(1), object(2)\n",
      "memory usage: 56.0+ KB\n"
     ]
    }
   ],
   "source": [
    "chunks.info()"
   ]
  },
  {
   "cell_type": "code",
   "execution_count": 28,
   "id": "5053af91-3e22-4331-9705-b3208f3c1bb2",
   "metadata": {},
   "outputs": [
    {
     "data": {
      "text/plain": [
       "<AxesSubplot: ylabel='duration'>"
      ]
     },
     "execution_count": 28,
     "metadata": {},
     "output_type": "execute_result"
    },
    {
     "data": {
      "image/png": "[encoded data removed]",
      "text/plain": [
       "<Figure size 640x480 with 1 Axes>"
      ]
     },
     "metadata": {},
     "output_type": "display_data"
    }
   ],
   "source": [
    "seaborn.lineplot(x=chunks.index, y=chunks.duration)"
   ]
  },
  {
   "cell_type": "code",
   "execution_count": 29,
   "id": "a46f7220-a046-45ed-9b95-3227f5a3ba7b",
   "metadata": {},
   "outputs": [
    {
     "data": {
      "text/plain": [
       "<AxesSubplot: xlabel='duration', ylabel='Count'>"
      ]
     },
     "execution_count": 29,
     "metadata": {},
     "output_type": "execute_result"
    },
    {
     "data": {
      "image/png": "[encoded data removed]",
      "text/plain": [
       "<Figure size 640x480 with 1 Axes>"
      ]
     },
     "metadata": {},
     "output_type": "display_data"
    }
   ],
   "source": [
    "seaborn.histplot(chunks.duration)"
   ]
  },
  {
   "cell_type": "code",
   "execution_count": 30,
   "id": "3b5822c8-24e9-4597-b532-779537d80ae9",
   "metadata": {},
   "outputs": [],
   "source": [
    "def save_chunk(row):\n",
    "    original_audio = pathlib.Path(row[\"normalized_wav\"])\n",
    "    folder = original_audio.parent.parent.parent / \"splits\" / original_audio.stem\n",
    "    folder.mkdir(exist_ok=True, parents=True)\n",
    "    output_name = folder / f\"{row['index']:04}.wav\"\n",
    "    row[\"sound\"].export(output_name, format=\"wav\")\n",
    "    return output_name"
   ]
  },
  {
   "cell_type": "code",
   "execution_count": 31,
   "id": "ba5b6144-69de-4b96-bc56-821a1071feb4",
   "metadata": {},
   "outputs": [],
   "source": [
    "chunks[\"index\"] = chunks.groupby(\"normalized_wav\", as_index=False).cumcount()"
   ]
  },
  {
   "cell_type": "code",
   "execution_count": 32,
   "id": "7ed47c45-b59f-42c9-9486-71ef70c8bd39",
   "metadata": {},
   "outputs": [
    {
     "data": {
      "application/vnd.jupyter.widget-view+json": {
       "model_id": "20cde57bc0f54fb5833db1ea104c7190",
       "version_major": 2,
       "version_minor": 0
      },
      "text/plain": [
       "  0%|          | 0/2386 [00:00<?, ?it/s]"
      ]
     },
     "metadata": {},
     "output_type": "display_data"
    }
   ],
   "source": [
    "chunks[\"path\"] = chunks.progress_apply(save_chunk, axis=1)"
   ]
  },
  {
   "cell_type": "code",
   "execution_count": 82,
   "id": "72e6cf8d-b64e-4301-a540-5e59649eca65",
   "metadata": {},
   "outputs": [
    {
     "data": {
      "text/html": [
       "\n",
       "                    <audio controls>\n",
       "                        <source src=\"data:audio/mpeg;base64,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\" type=\"audio/mpeg\"/>\n",
       "                        Your browser does not support the audio element.\n",
       "                    </audio>\n",
       "                  "
      ],
      "text/plain": [
       "<pydub.audio_segment.AudioSegment at 0x7faa8f230400>"
      ]
     },
     "execution_count": 82,
     "metadata": {},
     "output_type": "execute_result"
    }
   ],
   "source": [
    "chunks[\"sound\"].iloc[0]"
   ]
  },
  {
   "cell_type": "code",
   "execution_count": 34,
   "id": "6be37846-a6ee-41d9-82d1-fee759a76d80",
   "metadata": {
    "tags": []
   },
   "outputs": [
    {
     "data": {
      "text/html": [
       "\n",
       "                    <audio controls>\n",
       "                        <source src=\"data:audio/mpeg;base64,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\" type=\"audio/mpeg\"/>\n",
       "                        Your browser does not support the audio element.\n",
       "                    </audio>\n",
       "                  "
      ],
      "text/plain": [
       "<pydub.audio_segment.AudioSegment at 0x7faa48773220>"
      ]
     },
     "execution_count": 34,
     "metadata": {},
     "output_type": "execute_result"
    }
   ],
   "source": [
    "chunks[\"sound\"].iloc[20]"
   ]
  },
  {
   "cell_type": "markdown",
   "id": "63ddfd52-ef31-440f-a718-1f800983958f",
   "metadata": {},
   "source": [
    "# Upload Files to S3"
   ]
  },
  {
   "cell_type": "code",
   "execution_count": 45,
   "id": "4897f04f-9504-489b-98c9-64a43bed6e13",
   "metadata": {
    "tags": []
   },
   "outputs": [],
   "source": [
    "storage_client = boto3.client(\"s3\")\n",
    "response = storage_client.upload_file(data_local / vocabulary_file, bucket, str(vocabulary_file))"
   ]
  },
  {
   "cell_type": "code",
   "execution_count": 51,
   "id": "364de442-16b9-4d9f-989b-f5cd451c8b4c",
   "metadata": {},
   "outputs": [],
   "source": [
    "def upload(row, storage_client, bucket):\n",
    "    object_name = f\"splits/{pathlib.Path(row['normalized_wav']).stem}/{pathlib.Path(row['path']).name}\"\n",
    "    storage_client.upload_file(row[\"path\"], bucket, object_name)\n",
    "    return f\"s3://{bucket}/{object_name}\""
   ]
  },
  {
   "cell_type": "code",
   "execution_count": 52,
   "id": "7ce8d282-8436-479d-b461-1d4914e70d16",
   "metadata": {},
   "outputs": [
    {
     "data": {
      "application/vnd.jupyter.widget-view+json": {
       "model_id": "920117cf32844b089d8748543bc5cc5d",
       "version_major": 2,
       "version_minor": 0
      },
      "text/plain": [
       "  0%|          | 0/2386 [00:00<?, ?it/s]"
      ]
     },
     "metadata": {},
     "output_type": "display_data"
    }
   ],
   "source": [
    "chunks[\"s3_uri\"] = chunks.progress_apply(upload, axis=1, storage_client=storage_client, bucket=bucket)"
   ]
  },
  {
   "cell_type": "markdown",
   "id": "3d4bca84-3122-4409-9a69-dc75b37782f4",
   "metadata": {},
   "source": [
    "# Create vocabulary"
   ]
  },
  {
   "cell_type": "code",
   "execution_count": 90,
   "id": "e5e236a9-6955-41c7-b660-68b427ebaf9f",
   "metadata": {},
   "outputs": [],
   "source": [
    "transcribe_client = boto3.client('transcribe')"
   ]
  },
  {
   "cell_type": "code",
   "execution_count": null,
   "id": "cc433edb-5314-4f40-8aa7-16305ac7292a",
   "metadata": {
    "tags": []
   },
   "outputs": [],
   "source": [
    "words = pd.read_csv(data_local / vocabulary_file)\n",
    "words[\"Phrases\"] = words[\"Phrases\"].str.replace(\" \", \"-\")"
   ]
  },
  {
   "cell_type": "code",
   "execution_count": null,
   "id": "6f84b7a6-fc8d-4fc8-abea-3b8ae8901e05",
   "metadata": {
    "tags": []
   },
   "outputs": [],
   "source": [
    "transcribe_client.delete_vocabulary(VocabularyName=vocabulary_name)\n",
    "time.sleep(15)\n",
    "response = transcribe_client.create_vocabulary(\n",
    "    LanguageCode='it-IT',\n",
    "    VocabularyName=vocabulary_name,\n",
    "    Phrases=words[\"Phrases\"].tolist(),\n",
    ")"
   ]
  },
  {
   "cell_type": "code",
   "execution_count": null,
   "id": "27de232e-7ffa-4a4f-a4ed-7144da1c260c",
   "metadata": {
    "tags": []
   },
   "outputs": [],
   "source": [
    "while True:\n",
    "    status = transcribe_client.get_vocabulary(VocabularyName=vocabulary_name)\n",
    "    if status['VocabularyState'] in ['READY', 'FAILED']:\n",
    "        break\n",
    "    print(\"Not ready yet...\")\n",
    "    time.sleep(5)\n",
    "print(status)"
   ]
  },
  {
   "cell_type": "markdown",
   "id": "7e3bf754-6622-4f1b-a536-88de89edfe7b",
   "metadata": {},
   "source": [
    "# Checkpoint to hard disk"
   ]
  },
  {
   "cell_type": "code",
   "execution_count": 132,
   "id": "027c1f41-3ae4-4c60-9fce-82c73b9df261",
   "metadata": {
    "tags": []
   },
   "outputs": [],
   "source": [
    "chunks.to_pickle(\"/hd4tb/archivio_barbero/splits/notebook/chunks.pkl.gz\")"
   ]
  },
  {
   "cell_type": "code",
   "execution_count": 206,
   "id": "dad9f23b-51ee-4852-aa2b-64923a91fd0a",
   "metadata": {
    "tags": []
   },
   "outputs": [],
   "source": [
    "# chunks = chunks.head(100).copy()"
   ]
  },
  {
   "cell_type": "markdown",
   "id": "97b6d2d8-c394-4ab8-87ce-765a4b7356b2",
   "metadata": {},
   "source": [
    "# Speech to Text: Transcribe"
   ]
  },
  {
   "cell_type": "code",
   "execution_count": 208,
   "id": "3c9845bc-9109-4006-81cb-315b20eb0046",
   "metadata": {},
   "outputs": [],
   "source": [
    "def speech_to_text(row, client):\n",
    "    job_name = f'{row[\"path\"].parent.name}-{row[\"path\"].stem}'\n",
    "    output_key = f\"transcriptions/{job_name}.json\"\n",
    "    client.start_transcription_job(\n",
    "        TranscriptionJobName=job_name,\n",
    "        OutputBucketName=bucket,\n",
    "        OutputKey=output_key,\n",
    "        Media={'MediaFileUri': row[\"s3_uri\"]},\n",
    "        MediaFormat='wav',\n",
    "        LanguageCode='it-IT',\n",
    "        Settings={\n",
    "            \"VocabularyName\": vocabulary_name,\n",
    "\n",
    "        },\n",
    "        JobExecutionSettings={\n",
    "            \"AllowDeferredExecution\": True,\n",
    "            \"DataAccessRoleArn\": \"arn:aws:iam::180517682866:role/s3-role\",\n",
    "        },\n",
    "    )\n",
    "    return job_name"
   ]
  },
  {
   "cell_type": "code",
   "execution_count": 212,
   "id": "0a59b856-ad71-4e2a-82ae-2387070bb45b",
   "metadata": {},
   "outputs": [
    {
     "data": {
      "application/vnd.jupyter.widget-view+json": {
       "model_id": "3f3f50a616b546f3b65781be5dd4e788",
       "version_major": 2,
       "version_minor": 0
      },
      "text/plain": [
       "  0%|          | 0/2386 [00:00<?, ?it/s]"
      ]
     },
     "metadata": {},
     "output_type": "display_data"
    }
   ],
   "source": [
    "chunks[\"job_name\"] = chunks.progress_apply(speech_to_text, axis=1, client=transcribe_client)"
   ]
  },
  {
   "cell_type": "code",
   "execution_count": 222,
   "id": "2d9ca325-1fe3-415e-a027-2a1592657aba",
   "metadata": {
    "tags": []
   },
   "outputs": [
    {
     "data": {
      "application/vnd.jupyter.widget-view+json": {
       "model_id": "17a99cfee6404d9ab41d6ca299556d32",
       "version_major": 2,
       "version_minor": 0
      },
      "text/plain": [
       "  0%|          | 0/2386 [00:00<?, ?it/s]"
      ]
     },
     "metadata": {},
     "output_type": "display_data"
    }
   ],
   "source": [
    "with concurrent.futures.ThreadPoolExecutor(max_workers=1) as executor:\n",
    "    def job_completed(job_name, transcribe_client):\n",
    "        max_tries = 60\n",
    "        while max_tries > 0:\n",
    "            max_tries -= 1\n",
    "            job = transcribe_client.get_transcription_job(TranscriptionJobName=job_name)\n",
    "            job_status = job['TranscriptionJob']['TranscriptionJobStatus']\n",
    "            if job_status in ['COMPLETED', 'FAILED']:\n",
    "                if job_status == 'COMPLETED':\n",
    "                    return job\n",
    "            else:\n",
    "                time.sleep(5)\n",
    "    def job_completed_row(row, executor):\n",
    "        return executor.submit(job_completed, job_name=row[\"job_name\"], transcribe_client=transcribe_client)\n",
    "    chunks[\"job_future\"] = chunks.progress_apply(job_completed_row, axis=1, executor=executor)"
   ]
  },
  {
   "cell_type": "code",
   "execution_count": 223,
   "id": "4eea7128-935f-4910-84a2-c11fe16e9a5e",
   "metadata": {
    "tags": []
   },
   "outputs": [
    {
     "data": {
      "application/vnd.jupyter.widget-view+json": {
       "model_id": "bbc9c1c5dc3b477d96008b9b6064bda0",
       "version_major": 2,
       "version_minor": 0
      },
      "text/plain": [
       "  0%|          | 0/2386 [00:00<?, ?it/s]"
      ]
     },
     "metadata": {},
     "output_type": "display_data"
    }
   ],
   "source": [
    "chunks[\"job\"] = chunks[\"job_future\"].progress_apply(lambda x: x.result())"
   ]
  },
  {
   "cell_type": "code",
   "execution_count": 225,
   "id": "b2d58fc1-371c-449d-985e-f762abee481c",
   "metadata": {
    "tags": []
   },
   "outputs": [],
   "source": [
    "def get_transcript_file_uri(job):\n",
    "    if job is None:\n",
    "        return None\n",
    "    else:\n",
    "        return job.get(\"TranscriptionJob\", {}).get(\"Transcript\", {}).get(\"TranscriptFileUri\")"
   ]
  },
  {
   "cell_type": "code",
   "execution_count": 226,
   "id": "ab806bf2-a81d-4b74-8134-3211f19bec22",
   "metadata": {
    "tags": []
   },
   "outputs": [],
   "source": [
    "chunks[\"transcript_file_uri\"] = chunks[\"job\"].apply(get_transcript_file_uri)"
   ]
  },
  {
   "cell_type": "markdown",
   "id": "d1ca4177-0bd2-46ad-a418-4e3283399756",
   "metadata": {},
   "source": [
    "# Extract the speech to text results"
   ]
  },
  {
   "cell_type": "code",
   "execution_count": null,
   "id": "bfbbc35b-385e-40f1-bb1d-53d717cff1f7",
   "metadata": {
    "tags": []
   },
   "outputs": [],
   "source": [
    "def download_transcript(row, bucket, storage_client):\n",
    "    uri = row[\"transcript_file_uri\"]\n",
    "    key = uri.replace(f\"https://s3.{region}.amazonaws.com/{bucket}/\", \"\")\n",
    "    o = storage_client.get_object(Bucket=bucket, Key=key)\n",
    "    transcript = json.load(o[\"Body\"])\n",
    "    if transcript[\"status\"] == \"COMPLETED\":\n",
    "        result = pd.Series({\n",
    "            \"path\": row[\"path\"],\n",
    "            \"status\": transcript[\"status\"],\n",
    "            \"transcript\": transcript[\"results\"][\"transcripts\"][0][\"transcript\"]\n",
    "        })\n",
    "    else:\n",
    "        result = pd.Series({\n",
    "            \"path\": row[\"path\"],\n",
    "            \"status\": transcript[\"status\"],\n",
    "            \"transcript\": transcript[\"status\"]\n",
    "        })\n",
    "    return result"
   ]
  },
  {
   "cell_type": "code",
   "execution_count": 227,
   "id": "4f135747-d57f-479c-a8d1-31960b5a9f42",
   "metadata": {
    "tags": []
   },
   "outputs": [
    {
     "data": {
      "application/vnd.jupyter.widget-view+json": {
       "model_id": "1f24d406e8f04ad584dbf678f8ea3121",
       "version_major": 2,
       "version_minor": 0
      },
      "text/plain": [
       "  0%|          | 0/2380 [00:00<?, ?it/s]"
      ]
     },
     "metadata": {},
     "output_type": "display_data"
    }
   ],
   "source": [
    "transcribed = chunks[chunks[\"transcript_file_uri\"].notnull()].progress_apply(\n",
    "    download_transcript,\n",
    "    axis=1,\n",
    "    bucket=bucket,\n",
    "    storage_client=storage_client,\n",
    ")"
   ]
  },
  {
   "cell_type": "code",
   "execution_count": 228,
   "id": "28cfa0a7-9160-434b-b87b-db67bdab7d97",
   "metadata": {
    "tags": []
   },
   "outputs": [],
   "source": [
    "merged = pd.merge(chunks, transcribed, on=\"path\")"
   ]
  },
  {
   "cell_type": "code",
   "execution_count": 229,
   "id": "6977254a-e81b-4423-8e7b-909572b5abd8",
   "metadata": {
    "tags": []
   },
   "outputs": [],
   "source": [
    "merged.to_excel(\"../data/merged.xlsx\", index=False)"
   ]
  },
  {
   "cell_type": "code",
   "execution_count": 241,
   "id": "ceeaafb5-ea54-4aef-bca7-848a022f2c40",
   "metadata": {
    "tags": []
   },
   "outputs": [
    {
     "data": {
      "application/vnd.jupyter.widget-view+json": {
       "model_id": "83105eda143d45a494a4364efdbfde33",
       "version_major": 2,
       "version_minor": 0
      },
      "text/plain": [
       "  0%|          | 0/2380 [00:00<?, ?it/s]"
      ]
     },
     "metadata": {},
     "output_type": "display_data"
    }
   ],
   "source": [
    "def delete_job(row, transcribe_client):\n",
    "    try:\n",
    "        transcribe_client.delete_transcription_job(TranscriptionJobName=row[\"job_name\"])\n",
    "    except Exception:\n",
    "        pass\n",
    "    time.sleep(0.1)\n",
    "_ = merged.progress_apply(delete_job, axis=1, transcribe_client=transcribe_client)"
   ]
  },
  {
   "cell_type": "markdown",
   "id": "e07105a8-7a5a-4815-b84e-5b495bf8fd0c",
   "metadata": {},
   "source": [
    "# Clean the transcriptions"
   ]
  },
  {
   "cell_type": "code",
   "execution_count": 234,
   "id": "64f9a73d-2dc6-4e70-9707-7f60f1e09cb6",
   "metadata": {
    "tags": []
   },
   "outputs": [],
   "source": [
    "cleaning = {\n",
    "    \"c' è\": \"c'è\",\n",
    "    \"c', è\": \"c'è\",\n",
    "    \"c'. è\": \"c'è\",\n",
    "    \"\\bé\\b\": \"è\",\n",
    "    \"gay\": \"Gray\",\n",
    "    \"\\.$\": \"\",\n",
    "}"
   ]
  },
  {
   "cell_type": "code",
   "execution_count": 235,
   "id": "6489f74e-f321-41d1-ad19-783bbfe45cba",
   "metadata": {
    "tags": []
   },
   "outputs": [],
   "source": [
    "merged[\"clean_transcript\"] = merged[\"transcript\"]\n",
    "for key, value in cleaning.items():\n",
    "    merged[\"clean_transcript\"] = merged[\"clean_transcript\"].str.replace(key, value, regex=True)"
   ]
  },
  {
   "cell_type": "code",
   "execution_count": 236,
   "id": "8850a51f-62a8-4c93-9496-c28406e024bd",
   "metadata": {
    "tags": []
   },
   "outputs": [
    {
     "data": {
      "text/plain": [
       "0                                come scoppiano le guerre\n",
       "1       per esempio nell'europa del millenovecento qua...\n",
       "2       allora la prima cosa importante da dire sullo ...\n",
       "3                                         e il terrorismo\n",
       "4       che so abbattere due grattacieli con tremila p...\n",
       "                              ...                        \n",
       "2375                      che appoggia la giunta militare\n",
       "2376                              e che al suo confidente\n",
       "2377             americano dice questo politico argentino\n",
       "2378                                                  eh?\n",
       "2379                                                ormai\n",
       "Name: clean_transcript, Length: 2380, dtype: object"
      ]
     },
     "execution_count": 236,
     "metadata": {},
     "output_type": "execute_result"
    }
   ],
   "source": [
    "merged[\"clean_transcript\"]"
   ]
  },
  {
   "cell_type": "code",
   "execution_count": 242,
   "id": "8b2fc78d-ff24-43fb-8933-2499ff781a84",
   "metadata": {
    "tags": []
   },
   "outputs": [],
   "source": [
    "merged.drop(columns=[\"job\", \"job_future\"]).to_pickle(\"../data/merged.pkl.gz\")"
   ]
  },
  {
   "cell_type": "code",
   "execution_count": 4,
   "id": "2c5eafac-5f18-4784-956d-1b2faa72830f",
   "metadata": {
    "tags": []
   },
   "outputs": [],
   "source": [
    "merged = pd.read_pickle(\"../data/merged.pkl.gz\")"
   ]
  },
  {
   "cell_type": "code",
   "execution_count": 5,
   "id": "b6d5b52d-7106-465e-aa94-56e69552ec2f",
   "metadata": {},
   "outputs": [
    {
     "data": {
      "text/html": [
       "<div>\n",
       "<style scoped>\n",
       "    .dataframe tbody tr th:only-of-type {\n",
       "        vertical-align: middle;\n",
       "    }\n",
       "\n",
       "    .dataframe tbody tr th {\n",
       "        vertical-align: top;\n",
       "    }\n",
       "\n",
       "    .dataframe thead th {\n",
       "        text-align: right;\n",
       "    }\n",
       "</style>\n",
       "<table border=\"1\" class=\"dataframe\">\n",
       "  <thead>\n",
       "    <tr style=\"text-align: right;\">\n",
       "      <th></th>\n",
       "      <th>sound</th>\n",
       "      <th>duration</th>\n",
       "      <th>normalized_wav</th>\n",
       "      <th>index</th>\n",
       "      <th>path</th>\n",
       "      <th>s3_uri</th>\n",
       "      <th>job_name</th>\n",
       "      <th>transcript_file_uri</th>\n",
       "      <th>status</th>\n",
       "      <th>transcript</th>\n",
       "      <th>clean_transcript</th>\n",
       "    </tr>\n",
       "  </thead>\n",
       "  <tbody>\n",
       "    <tr>\n",
       "      <th>0</th>\n",
       "      <td>(((&lt;pydub.audio_segment.AudioSegment object at...</td>\n",
       "      <td>2.381995</td>\n",
       "      <td>/hd4tb/archivio_barbero/wav/normalized_wav/7_L...</td>\n",
       "      <td>0</td>\n",
       "      <td>/hd4tb/archivio_barbero/splits/7_La_Prima_Guer...</td>\n",
       "      <td>s3://barbero-tts2/splits/7_La_Prima_Guerra_Mon...</td>\n",
       "      <td>7_La_Prima_Guerra_Mondiale__Come_scoppiano_le_...</td>\n",
       "      <td>https://s3.eu-central-1.amazonaws.com/barbero-...</td>\n",
       "      <td>COMPLETED</td>\n",
       "      <td>come scoppiano le guerre.</td>\n",
       "      <td>come scoppiano le guerre</td>\n",
       "    </tr>\n",
       "    <tr>\n",
       "      <th>1</th>\n",
       "      <td>(((&lt;pydub.audio_segment.AudioSegment object at...</td>\n",
       "      <td>6.520000</td>\n",
       "      <td>/hd4tb/archivio_barbero/wav/normalized_wav/7_L...</td>\n",
       "      <td>1</td>\n",
       "      <td>/hd4tb/archivio_barbero/splits/7_La_Prima_Guer...</td>\n",
       "      <td>s3://barbero-tts2/splits/7_La_Prima_Guerra_Mon...</td>\n",
       "      <td>7_La_Prima_Guerra_Mondiale__Come_scoppiano_le_...</td>\n",
       "      <td>https://s3.eu-central-1.amazonaws.com/barbero-...</td>\n",
       "      <td>COMPLETED</td>\n",
       "      <td>per esempio nell'europa del millenovecento qua...</td>\n",
       "      <td>per esempio nell'europa del millenovecento qua...</td>\n",
       "    </tr>\n",
       "    <tr>\n",
       "      <th>2</th>\n",
       "      <td>(((&lt;pydub.audio_segment.AudioSegment object at...</td>\n",
       "      <td>8.385011</td>\n",
       "      <td>/hd4tb/archivio_barbero/wav/normalized_wav/7_L...</td>\n",
       "      <td>2</td>\n",
       "      <td>/hd4tb/archivio_barbero/splits/7_La_Prima_Guer...</td>\n",
       "      <td>s3://barbero-tts2/splits/7_La_Prima_Guerra_Mon...</td>\n",
       "      <td>7_La_Prima_Guerra_Mondiale__Come_scoppiano_le_...</td>\n",
       "      <td>https://s3.eu-central-1.amazonaws.com/barbero-...</td>\n",
       "      <td>COMPLETED</td>\n",
       "      <td>allora la prima cosa importante da dire sullo ...</td>\n",
       "      <td>allora la prima cosa importante da dire sullo ...</td>\n",
       "    </tr>\n",
       "    <tr>\n",
       "      <th>3</th>\n",
       "      <td>(((&lt;pydub.audio_segment.AudioSegment object at...</td>\n",
       "      <td>2.153991</td>\n",
       "      <td>/hd4tb/archivio_barbero/wav/normalized_wav/7_L...</td>\n",
       "      <td>3</td>\n",
       "      <td>/hd4tb/archivio_barbero/splits/7_La_Prima_Guer...</td>\n",
       "      <td>s3://barbero-tts2/splits/7_La_Prima_Guerra_Mon...</td>\n",
       "      <td>7_La_Prima_Guerra_Mondiale__Come_scoppiano_le_...</td>\n",
       "      <td>https://s3.eu-central-1.amazonaws.com/barbero-...</td>\n",
       "      <td>COMPLETED</td>\n",
       "      <td>e il terrorismo.</td>\n",
       "      <td>e il terrorismo</td>\n",
       "    </tr>\n",
       "    <tr>\n",
       "      <th>4</th>\n",
       "      <td>(((&lt;pydub.audio_segment.AudioSegment object at...</td>\n",
       "      <td>4.148005</td>\n",
       "      <td>/hd4tb/archivio_barbero/wav/normalized_wav/7_L...</td>\n",
       "      <td>4</td>\n",
       "      <td>/hd4tb/archivio_barbero/splits/7_La_Prima_Guer...</td>\n",
       "      <td>s3://barbero-tts2/splits/7_La_Prima_Guerra_Mon...</td>\n",
       "      <td>7_La_Prima_Guerra_Mondiale__Come_scoppiano_le_...</td>\n",
       "      <td>https://s3.eu-central-1.amazonaws.com/barbero-...</td>\n",
       "      <td>COMPLETED</td>\n",
       "      <td>che so abbattere due grattacieli con tremila p...</td>\n",
       "      <td>che so abbattere due grattacieli con tremila p...</td>\n",
       "    </tr>\n",
       "    <tr>\n",
       "      <th>...</th>\n",
       "      <td>...</td>\n",
       "      <td>...</td>\n",
       "      <td>...</td>\n",
       "      <td>...</td>\n",
       "      <td>...</td>\n",
       "      <td>...</td>\n",
       "      <td>...</td>\n",
       "      <td>...</td>\n",
       "      <td>...</td>\n",
       "      <td>...</td>\n",
       "      <td>...</td>\n",
       "    </tr>\n",
       "    <tr>\n",
       "      <th>2375</th>\n",
       "      <td>(((&lt;pydub.audio_segment.AudioSegment object at...</td>\n",
       "      <td>2.290998</td>\n",
       "      <td>/hd4tb/archivio_barbero/wav/normalized_wav/9_L...</td>\n",
       "      <td>749</td>\n",
       "      <td>/hd4tb/archivio_barbero/splits/9_La_Guerra_del...</td>\n",
       "      <td>s3://barbero-tts2/splits/9_La_Guerra_delle_Fal...</td>\n",
       "      <td>9_La_Guerra_delle_Falkland_-_Come_scoppiano_le...</td>\n",
       "      <td>https://s3.eu-central-1.amazonaws.com/barbero-...</td>\n",
       "      <td>COMPLETED</td>\n",
       "      <td>che appoggia la giunta militare.</td>\n",
       "      <td>che appoggia la giunta militare</td>\n",
       "    </tr>\n",
       "    <tr>\n",
       "      <th>2376</th>\n",
       "      <td>(((&lt;pydub.audio_segment.AudioSegment object at...</td>\n",
       "      <td>1.834989</td>\n",
       "      <td>/hd4tb/archivio_barbero/wav/normalized_wav/9_L...</td>\n",
       "      <td>750</td>\n",
       "      <td>/hd4tb/archivio_barbero/splits/9_La_Guerra_del...</td>\n",
       "      <td>s3://barbero-tts2/splits/9_La_Guerra_delle_Fal...</td>\n",
       "      <td>9_La_Guerra_delle_Falkland_-_Come_scoppiano_le...</td>\n",
       "      <td>https://s3.eu-central-1.amazonaws.com/barbero-...</td>\n",
       "      <td>COMPLETED</td>\n",
       "      <td>e che al suo confidente.</td>\n",
       "      <td>e che al suo confidente</td>\n",
       "    </tr>\n",
       "    <tr>\n",
       "      <th>2377</th>\n",
       "      <td>(((&lt;pydub.audio_segment.AudioSegment object at...</td>\n",
       "      <td>3.072993</td>\n",
       "      <td>/hd4tb/archivio_barbero/wav/normalized_wav/9_L...</td>\n",
       "      <td>751</td>\n",
       "      <td>/hd4tb/archivio_barbero/splits/9_La_Guerra_del...</td>\n",
       "      <td>s3://barbero-tts2/splits/9_La_Guerra_delle_Fal...</td>\n",
       "      <td>9_La_Guerra_delle_Falkland_-_Come_scoppiano_le...</td>\n",
       "      <td>https://s3.eu-central-1.amazonaws.com/barbero-...</td>\n",
       "      <td>COMPLETED</td>\n",
       "      <td>americano dice questo politico argentino.</td>\n",
       "      <td>americano dice questo politico argentino</td>\n",
       "    </tr>\n",
       "    <tr>\n",
       "      <th>2378</th>\n",
       "      <td>(((&lt;pydub.audio_segment.AudioSegment object at...</td>\n",
       "      <td>0.611020</td>\n",
       "      <td>/hd4tb/archivio_barbero/wav/normalized_wav/9_L...</td>\n",
       "      <td>752</td>\n",
       "      <td>/hd4tb/archivio_barbero/splits/9_La_Guerra_del...</td>\n",
       "      <td>s3://barbero-tts2/splits/9_La_Guerra_delle_Fal...</td>\n",
       "      <td>9_La_Guerra_delle_Falkland_-_Come_scoppiano_le...</td>\n",
       "      <td>https://s3.eu-central-1.amazonaws.com/barbero-...</td>\n",
       "      <td>COMPLETED</td>\n",
       "      <td>eh?</td>\n",
       "      <td>eh?</td>\n",
       "    </tr>\n",
       "    <tr>\n",
       "      <th>2379</th>\n",
       "      <td>(((&lt;pydub.audio_segment.AudioSegment object at...</td>\n",
       "      <td>0.864989</td>\n",
       "      <td>/hd4tb/archivio_barbero/wav/normalized_wav/9_L...</td>\n",
       "      <td>753</td>\n",
       "      <td>/hd4tb/archivio_barbero/splits/9_La_Guerra_del...</td>\n",
       "      <td>s3://barbero-tts2/splits/9_La_Guerra_delle_Fal...</td>\n",
       "      <td>9_La_Guerra_delle_Falkland_-_Come_scoppiano_le...</td>\n",
       "      <td>https://s3.eu-central-1.amazonaws.com/barbero-...</td>\n",
       "      <td>COMPLETED</td>\n",
       "      <td>ormai</td>\n",
       "      <td>ormai</td>\n",
       "    </tr>\n",
       "  </tbody>\n",
       "</table>\n",
       "<p>2380 rows × 11 columns</p>\n",
       "</div>"
      ],
      "text/plain": [
       "                                                  sound  duration  \\\n",
       "0     (((<pydub.audio_segment.AudioSegment object at...  2.381995   \n",
       "1     (((<pydub.audio_segment.AudioSegment object at...  6.520000   \n",
       "2     (((<pydub.audio_segment.AudioSegment object at...  8.385011   \n",
       "3     (((<pydub.audio_segment.AudioSegment object at...  2.153991   \n",
       "4     (((<pydub.audio_segment.AudioSegment object at...  4.148005   \n",
       "...                                                 ...       ...   \n",
       "2375  (((<pydub.audio_segment.AudioSegment object at...  2.290998   \n",
       "2376  (((<pydub.audio_segment.AudioSegment object at...  1.834989   \n",
       "2377  (((<pydub.audio_segment.AudioSegment object at...  3.072993   \n",
       "2378  (((<pydub.audio_segment.AudioSegment object at...  0.611020   \n",
       "2379  (((<pydub.audio_segment.AudioSegment object at...  0.864989   \n",
       "\n",
       "                                         normalized_wav  index  \\\n",
       "0     /hd4tb/archivio_barbero/wav/normalized_wav/7_L...      0   \n",
       "1     /hd4tb/archivio_barbero/wav/normalized_wav/7_L...      1   \n",
       "2     /hd4tb/archivio_barbero/wav/normalized_wav/7_L...      2   \n",
       "3     /hd4tb/archivio_barbero/wav/normalized_wav/7_L...      3   \n",
       "4     /hd4tb/archivio_barbero/wav/normalized_wav/7_L...      4   \n",
       "...                                                 ...    ...   \n",
       "2375  /hd4tb/archivio_barbero/wav/normalized_wav/9_L...    749   \n",
       "2376  /hd4tb/archivio_barbero/wav/normalized_wav/9_L...    750   \n",
       "2377  /hd4tb/archivio_barbero/wav/normalized_wav/9_L...    751   \n",
       "2378  /hd4tb/archivio_barbero/wav/normalized_wav/9_L...    752   \n",
       "2379  /hd4tb/archivio_barbero/wav/normalized_wav/9_L...    753   \n",
       "\n",
       "                                                   path  \\\n",
       "0     /hd4tb/archivio_barbero/splits/7_La_Prima_Guer...   \n",
       "1     /hd4tb/archivio_barbero/splits/7_La_Prima_Guer...   \n",
       "2     /hd4tb/archivio_barbero/splits/7_La_Prima_Guer...   \n",
       "3     /hd4tb/archivio_barbero/splits/7_La_Prima_Guer...   \n",
       "4     /hd4tb/archivio_barbero/splits/7_La_Prima_Guer...   \n",
       "...                                                 ...   \n",
       "2375  /hd4tb/archivio_barbero/splits/9_La_Guerra_del...   \n",
       "2376  /hd4tb/archivio_barbero/splits/9_La_Guerra_del...   \n",
       "2377  /hd4tb/archivio_barbero/splits/9_La_Guerra_del...   \n",
       "2378  /hd4tb/archivio_barbero/splits/9_La_Guerra_del...   \n",
       "2379  /hd4tb/archivio_barbero/splits/9_La_Guerra_del...   \n",
       "\n",
       "                                                 s3_uri  \\\n",
       "0     s3://barbero-tts2/splits/7_La_Prima_Guerra_Mon...   \n",
       "1     s3://barbero-tts2/splits/7_La_Prima_Guerra_Mon...   \n",
       "2     s3://barbero-tts2/splits/7_La_Prima_Guerra_Mon...   \n",
       "3     s3://barbero-tts2/splits/7_La_Prima_Guerra_Mon...   \n",
       "4     s3://barbero-tts2/splits/7_La_Prima_Guerra_Mon...   \n",
       "...                                                 ...   \n",
       "2375  s3://barbero-tts2/splits/9_La_Guerra_delle_Fal...   \n",
       "2376  s3://barbero-tts2/splits/9_La_Guerra_delle_Fal...   \n",
       "2377  s3://barbero-tts2/splits/9_La_Guerra_delle_Fal...   \n",
       "2378  s3://barbero-tts2/splits/9_La_Guerra_delle_Fal...   \n",
       "2379  s3://barbero-tts2/splits/9_La_Guerra_delle_Fal...   \n",
       "\n",
       "                                               job_name  \\\n",
       "0     7_La_Prima_Guerra_Mondiale__Come_scoppiano_le_...   \n",
       "1     7_La_Prima_Guerra_Mondiale__Come_scoppiano_le_...   \n",
       "2     7_La_Prima_Guerra_Mondiale__Come_scoppiano_le_...   \n",
       "3     7_La_Prima_Guerra_Mondiale__Come_scoppiano_le_...   \n",
       "4     7_La_Prima_Guerra_Mondiale__Come_scoppiano_le_...   \n",
       "...                                                 ...   \n",
       "2375  9_La_Guerra_delle_Falkland_-_Come_scoppiano_le...   \n",
       "2376  9_La_Guerra_delle_Falkland_-_Come_scoppiano_le...   \n",
       "2377  9_La_Guerra_delle_Falkland_-_Come_scoppiano_le...   \n",
       "2378  9_La_Guerra_delle_Falkland_-_Come_scoppiano_le...   \n",
       "2379  9_La_Guerra_delle_Falkland_-_Come_scoppiano_le...   \n",
       "\n",
       "                                    transcript_file_uri     status  \\\n",
       "0     https://s3.eu-central-1.amazonaws.com/barbero-...  COMPLETED   \n",
       "1     https://s3.eu-central-1.amazonaws.com/barbero-...  COMPLETED   \n",
       "2     https://s3.eu-central-1.amazonaws.com/barbero-...  COMPLETED   \n",
       "3     https://s3.eu-central-1.amazonaws.com/barbero-...  COMPLETED   \n",
       "4     https://s3.eu-central-1.amazonaws.com/barbero-...  COMPLETED   \n",
       "...                                                 ...        ...   \n",
       "2375  https://s3.eu-central-1.amazonaws.com/barbero-...  COMPLETED   \n",
       "2376  https://s3.eu-central-1.amazonaws.com/barbero-...  COMPLETED   \n",
       "2377  https://s3.eu-central-1.amazonaws.com/barbero-...  COMPLETED   \n",
       "2378  https://s3.eu-central-1.amazonaws.com/barbero-...  COMPLETED   \n",
       "2379  https://s3.eu-central-1.amazonaws.com/barbero-...  COMPLETED   \n",
       "\n",
       "                                             transcript  \\\n",
       "0                             come scoppiano le guerre.   \n",
       "1     per esempio nell'europa del millenovecento qua...   \n",
       "2     allora la prima cosa importante da dire sullo ...   \n",
       "3                                      e il terrorismo.   \n",
       "4     che so abbattere due grattacieli con tremila p...   \n",
       "...                                                 ...   \n",
       "2375                   che appoggia la giunta militare.   \n",
       "2376                           e che al suo confidente.   \n",
       "2377          americano dice questo politico argentino.   \n",
       "2378                                                eh?   \n",
       "2379                                              ormai   \n",
       "\n",
       "                                       clean_transcript  \n",
       "0                              come scoppiano le guerre  \n",
       "1     per esempio nell'europa del millenovecento qua...  \n",
       "2     allora la prima cosa importante da dire sullo ...  \n",
       "3                                       e il terrorismo  \n",
       "4     che so abbattere due grattacieli con tremila p...  \n",
       "...                                                 ...  \n",
       "2375                    che appoggia la giunta militare  \n",
       "2376                            e che al suo confidente  \n",
       "2377           americano dice questo politico argentino  \n",
       "2378                                                eh?  \n",
       "2379                                              ormai  \n",
       "\n",
       "[2380 rows x 11 columns]"
      ]
     },
     "execution_count": 5,
     "metadata": {},
     "output_type": "execute_result"
    }
   ],
   "source": [
    "merged"
   ]
  },
  {
   "cell_type": "markdown",
   "id": "fa6d73b6-5cae-4d01-ae26-96f46e1a03c4",
   "metadata": {},
   "source": []
  },
  {
   "cell_type": "code",
   "execution_count": 6,
   "id": "f8286a5f-624f-4495-a606-4c988fa925ab",
   "metadata": {},
   "outputs": [],
   "source": [
    "def write_wavs(row):\n",
    "    path = pathlib.Path(row['path'])\n",
    "    folder = pathlib.Path(f\"/ssd500gb/archivio_barbero/split_wav/{path.parent.name}\")\n",
    "    folder.mkdir(exist_ok=True, parents=True)\n",
    "    output_name = f\"{folder}/{path.name}\"\n",
    "    row[\"sound\"].export(output_name, format=\"wav\")\n",
    "    return output_name"
   ]
  },
  {
   "cell_type": "code",
   "execution_count": 14,
   "id": "7cc66025-aec4-40c8-bd79-f5fc2e2a4925",
   "metadata": {},
   "outputs": [],
   "source": [
    "merged[\"audio_file\"] = merged.apply(write_wavs, axis=1)"
   ]
  },
  {
   "cell_type": "code",
   "execution_count": 15,
   "id": "35f5491f-b4e4-4c41-af2c-6710263f4595",
   "metadata": {
    "tags": []
   },
   "outputs": [],
   "source": [
    "final = merged[[\"audio_file\", \"clean_transcript\"]].rename(columns={\"clean_transcript\": \"text\"})\n",
    "final[\"audio_file\"] = final[\"audio_file\"].apply(lambda x: pathlib.Path(x).relative_to(pathlib.Path(x).parent.parent))"
   ]
  },
  {
   "cell_type": "code",
   "execution_count": 17,
   "id": "c88f3d74-4d4b-4871-8652-2c59ff7f6ffc",
   "metadata": {
    "tags": []
   },
   "outputs": [],
   "source": [
    "final.to_csv(\"../data/audio_metadata.csv\", index=False, sep=\"|\")"
   ]
  }
 ],
 "metadata": {
  "kernelspec": {
   "display_name": "Python 3 (ipykernel)",
   "language": "python",
   "name": "python3"
  },
  "language_info": {
   "codemirror_mode": {
    "name": "ipython",
    "version": 3
   },
   "file_extension": ".py",
   "mimetype": "text/x-python",
   "name": "python",
   "nbconvert_exporter": "python",
   "pygments_lexer": "ipython3",
   "version": "3.10.10"
  }
 },
 "nbformat": 4,
 "nbformat_minor": 5
}
