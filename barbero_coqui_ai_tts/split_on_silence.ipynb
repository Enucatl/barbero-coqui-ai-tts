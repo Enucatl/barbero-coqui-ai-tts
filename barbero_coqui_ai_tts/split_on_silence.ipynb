{
 "cells": [
  {
   "cell_type": "code",
   "execution_count": 130,
   "id": "15501d11",
   "metadata": {},
   "outputs": [],
   "source": [
    "import logging\n",
    "import pathlib\n",
    "import os\n",
    "\n",
    "import pandas as pd\n",
    "import seaborn\n",
    "import pydub\n",
    "from tqdm.notebook import tqdm\n",
    "from google.cloud import storage\n",
    "from google.cloud import speech\n",
    "\n",
    "\n",
    "tqdm.pandas()\n",
    "logger = logging.getLogger(__name__)"
   ]
  },
  {
   "cell_type": "markdown",
   "id": "88af0f4f-c95e-4404-b2a5-db9f5710cec7",
   "metadata": {},
   "source": [
    "# Convert original file to flac"
   ]
  },
  {
   "cell_type": "code",
   "execution_count": 82,
   "id": "83dcf269",
   "metadata": {},
   "outputs": [
    {
     "data": {
      "text/html": [
       "<div>\n",
       "<style scoped>\n",
       "    .dataframe tbody tr th:only-of-type {\n",
       "        vertical-align: middle;\n",
       "    }\n",
       "\n",
       "    .dataframe tbody tr th {\n",
       "        vertical-align: top;\n",
       "    }\n",
       "\n",
       "    .dataframe thead th {\n",
       "        text-align: right;\n",
       "    }\n",
       "</style>\n",
       "<table border=\"1\" class=\"dataframe\">\n",
       "  <thead>\n",
       "    <tr style=\"text-align: right;\">\n",
       "      <th></th>\n",
       "      <th>original_audio</th>\n",
       "    </tr>\n",
       "  </thead>\n",
       "  <tbody>\n",
       "    <tr>\n",
       "      <th>0</th>\n",
       "      <td>/hd4tb/archivio_barbero/7_La_Prima_Guerra_Mond...</td>\n",
       "    </tr>\n",
       "    <tr>\n",
       "      <th>1</th>\n",
       "      <td>/hd4tb/archivio_barbero/8_Come_scoppiano_le_gu...</td>\n",
       "    </tr>\n",
       "    <tr>\n",
       "      <th>2</th>\n",
       "      <td>/hd4tb/archivio_barbero/9_La_Guerra_delle_Falk...</td>\n",
       "    </tr>\n",
       "  </tbody>\n",
       "</table>\n",
       "</div>"
      ],
      "text/plain": [
       "                                      original_audio\n",
       "0  /hd4tb/archivio_barbero/7_La_Prima_Guerra_Mond...\n",
       "1  /hd4tb/archivio_barbero/8_Come_scoppiano_le_gu...\n",
       "2  /hd4tb/archivio_barbero/9_La_Guerra_delle_Falk..."
      ]
     },
     "execution_count": 82,
     "metadata": {},
     "output_type": "execute_result"
    }
   ],
   "source": [
    "lines = pd.read_csv(\"../data/original_files.csv\")\n",
    "lines"
   ]
  },
  {
   "cell_type": "code",
   "execution_count": null,
   "id": "504ca3f3-21f4-41c7-b839-3cf12d33529a",
   "metadata": {},
   "outputs": [],
   "source": []
  },
  {
   "cell_type": "code",
   "execution_count": 176,
   "id": "fa1d8273-2e36-4bde-afd3-e8b337d121b8",
   "metadata": {},
   "outputs": [],
   "source": [
    "def convert(row):\n",
    "    input_file = pathlib.Path(row[\"original_audio\"])\n",
    "    folder = input_file.parent\n",
    "    name = input_file.stem\n",
    "    flac = folder / \"flac\" / f\"{name}.flac\"\n",
    "    sound = pydub.AudioSegment.from_mp3(input_file)\n",
    "    sound = sound.set_channels(1)  # save to mono\n",
    "    sound = pydub.effects.normalize(sound)\n",
    "    \n",
    "    sound.export(flac, format=\"flac\")\n",
    "    logger.debug(\"converted %s to %s\", input_file, flac)\n",
    "    return flac"
   ]
  },
  {
   "cell_type": "code",
   "execution_count": 177,
   "id": "4956982e-8670-48b1-a3fe-2246e16cd1d7",
   "metadata": {},
   "outputs": [
    {
     "data": {
      "application/vnd.jupyter.widget-view+json": {
       "model_id": "e47692de39df461bb29a6448bfc8c2ec",
       "version_major": 2,
       "version_minor": 0
      },
      "text/plain": [
       "  0%|          | 0/3 [00:00<?, ?it/s]"
      ]
     },
     "metadata": {},
     "output_type": "display_data"
    }
   ],
   "source": [
    "lines[\"flac\"] = lines.progress_apply(convert, axis=1)"
   ]
  },
  {
   "cell_type": "markdown",
   "id": "c1b59a3c-2380-455c-b493-9bc5f119dbd2",
   "metadata": {},
   "source": [
    "# Split flac file into chunks"
   ]
  },
  {
   "cell_type": "code",
   "execution_count": 178,
   "id": "bdc49caf-ad53-4f8b-8e28-7cd61f0a6602",
   "metadata": {},
   "outputs": [],
   "source": [
    "def split_on_silence(row, min_silence_len, silence_thresh):\n",
    "    input_file = row[\"flac\"]\n",
    "    sound = pydub.AudioSegment.from_file(input_file, format=\"flac\")\n",
    "    chunks = pydub.silence.split_on_silence(\n",
    "        sound,\n",
    "        min_silence_len=min_silence_len,\n",
    "        silence_thresh=silence_thresh,\n",
    "        keep_silence=True,\n",
    "    )\n",
    "    durations = pd.DataFrame(\n",
    "        {\n",
    "            \"chunk\": chunks,\n",
    "            \"duration\": [chunk.duration_seconds for chunk in chunks],\n",
    "        }\n",
    "    )\n",
    "    durations[\"flac\"] = input_file\n",
    "    return durations"
   ]
  },
  {
   "cell_type": "code",
   "execution_count": 187,
   "id": "9bbf6f0e-09d6-4337-af5a-8af4c35b0e5f",
   "metadata": {},
   "outputs": [
    {
     "data": {
      "application/vnd.jupyter.widget-view+json": {
       "model_id": "79e9fc8a9bbe47bbacb4cabe2e34de57",
       "version_major": 2,
       "version_minor": 0
      },
      "text/plain": [
       "  0%|          | 0/3 [00:00<?, ?it/s]"
      ]
     },
     "metadata": {},
     "output_type": "display_data"
    }
   ],
   "source": [
    "chunks = lines.progress_apply(split_on_silence, axis=1, min_silence_len=1400, silence_thresh=-29)"
   ]
  },
  {
   "cell_type": "code",
   "execution_count": 188,
   "id": "035dab00-a20f-4893-89fe-f0999503b678",
   "metadata": {},
   "outputs": [],
   "source": [
    "single_chunks = pd.concat(chunks.tolist()).reset_index()"
   ]
  },
  {
   "cell_type": "code",
   "execution_count": 189,
   "id": "5053af91-3e22-4331-9705-b3208f3c1bb2",
   "metadata": {},
   "outputs": [
    {
     "data": {
      "text/plain": [
       "<AxesSubplot: ylabel='duration'>"
      ]
     },
     "execution_count": 189,
     "metadata": {},
     "output_type": "execute_result"
    },
    {
     "data": {
      "image/png": "[encoded data removed]",
      "text/plain": [
       "<Figure size 640x480 with 1 Axes>"
      ]
     },
     "metadata": {},
     "output_type": "display_data"
    }
   ],
   "source": [
    "seaborn.lineplot(x=single_chunks.index, y=single_chunks.duration)"
   ]
  },
  {
   "cell_type": "code",
   "execution_count": 191,
   "id": "a46f7220-a046-45ed-9b95-3227f5a3ba7b",
   "metadata": {},
   "outputs": [
    {
     "data": {
      "text/plain": [
       "<AxesSubplot: xlabel='duration', ylabel='Count'>"
      ]
     },
     "execution_count": 191,
     "metadata": {},
     "output_type": "execute_result"
    },
    {
     "data": {
      "image/png": "[encoded data removed]",
      "text/plain": [
       "<Figure size 640x480 with 1 Axes>"
      ]
     },
     "metadata": {},
     "output_type": "display_data"
    }
   ],
   "source": [
    "seaborn.histplot(single_chunks.duration)"
   ]
  },
  {
   "cell_type": "code",
   "execution_count": 106,
   "id": "3b5822c8-24e9-4597-b532-779537d80ae9",
   "metadata": {},
   "outputs": [],
   "source": [
    "def save_chunk(row):\n",
    "    original_audio = pathlib.Path(row[\"flac\"])\n",
    "    folder = original_audio.parent.parent / \"splits\" / original_audio.stem\n",
    "    folder.mkdir(exist_ok=True, parents=True)\n",
    "    output_name = folder / f\"{row['index']:03}.flac\"\n",
    "    row[\"chunk\"].export(output_name, format=\"flac\")\n",
    "    return output_name"
   ]
  },
  {
   "cell_type": "code",
   "execution_count": 108,
   "id": "7ed47c45-b59f-42c9-9486-71ef70c8bd39",
   "metadata": {},
   "outputs": [
    {
     "data": {
      "application/vnd.jupyter.widget-view+json": {
       "model_id": "d9ac38f5bcc3484abc53b874889a5462",
       "version_major": 2,
       "version_minor": 0
      },
      "text/plain": [
       "  0%|          | 0/1052 [00:00<?, ?it/s]"
      ]
     },
     "metadata": {},
     "output_type": "display_data"
    }
   ],
   "source": [
    "single_chunks[\"path\"] = single_chunks.progress_apply(save_chunk, axis=1)"
   ]
  },
  {
   "cell_type": "code",
   "execution_count": 197,
   "id": "7b576d86-620f-470a-a768-35268b7e194c",
   "metadata": {},
   "outputs": [
    {
     "data": {
      "text/plain": [
       "/hd4tb/archivio_barbero/flac/7_La_Prima_Guerra_Mondiale__Come_scoppiano_le_guerre__Barbero_Riserva_Festival_della_Mente_2014.flac      455\n",
       "/hd4tb/archivio_barbero/flac/8_Come_scoppiano_le_guerre_La_seconda_guerra_mondiale_2014_2.flac                                         358\n",
       "/hd4tb/archivio_barbero/flac/9_La_Guerra_delle_Falkland_-_Come_scoppiano_le_guerre_-_Barbero_Riserva_Festival_della_Mente_2014.flac    282\n",
       "Name: flac, dtype: int64"
      ]
     },
     "execution_count": 197,
     "metadata": {},
     "output_type": "execute_result"
    }
   ],
   "source": [
    "single_chunks[\"flac\"].value_counts()"
   ]
  },
  {
   "cell_type": "code",
   "execution_count": 213,
   "id": "e841509a-06a8-4c91-8895-804895176682",
   "metadata": {},
   "outputs": [],
   "source": [
    "single_chunks2 = single_chunks[single_chunks[\"flac\"].apply(str).str.contains(\"seconda\")]"
   ]
  },
  {
   "cell_type": "code",
   "execution_count": 216,
   "id": "89f42698-c0a3-4acd-ba15-8d4365e10ed2",
   "metadata": {},
   "outputs": [
    {
     "data": {
      "application/vnd.jupyter.widget-view+json": {
       "model_id": "35b7eac5829c47d3925c9ecdcbfc6d3b",
       "version_major": 2,
       "version_minor": 0
      },
      "text/plain": [
       "  0%|          | 0/358 [00:00<?, ?it/s]"
      ]
     },
     "metadata": {},
     "output_type": "display_data"
    },
    {
     "name": "stderr",
     "output_type": "stream",
     "text": [
      "/tmp/ipykernel_345412/1894591772.py:1: SettingWithCopyWarning: \n",
      "A value is trying to be set on a copy of a slice from a DataFrame.\n",
      "Try using .loc[row_indexer,col_indexer] = value instead\n",
      "\n",
      "See the caveats in the documentation: https://pandas.pydata.org/pandas-docs/stable/user_guide/indexing.html#returning-a-view-versus-a-copy\n",
      "  single_chunks2[\"path\"] = single_chunks2.progress_apply(save_chunk, axis=1)\n"
     ]
    }
   ],
   "source": [
    "single_chunks2[\"path\"] = single_chunks2.progress_apply(save_chunk, axis=1)"
   ]
  },
  {
   "cell_type": "code",
   "execution_count": 217,
   "id": "a0bb7aa7-d93e-4ef3-8440-91d878a21f8a",
   "metadata": {},
   "outputs": [
    {
     "data": {
      "text/html": [
       "<div>\n",
       "<style scoped>\n",
       "    .dataframe tbody tr th:only-of-type {\n",
       "        vertical-align: middle;\n",
       "    }\n",
       "\n",
       "    .dataframe tbody tr th {\n",
       "        vertical-align: top;\n",
       "    }\n",
       "\n",
       "    .dataframe thead th {\n",
       "        text-align: right;\n",
       "    }\n",
       "</style>\n",
       "<table border=\"1\" class=\"dataframe\">\n",
       "  <thead>\n",
       "    <tr style=\"text-align: right;\">\n",
       "      <th></th>\n",
       "      <th>index</th>\n",
       "      <th>chunk</th>\n",
       "      <th>duration</th>\n",
       "      <th>flac</th>\n",
       "      <th>path</th>\n",
       "    </tr>\n",
       "  </thead>\n",
       "  <tbody>\n",
       "    <tr>\n",
       "      <th>455</th>\n",
       "      <td>0</td>\n",
       "      <td>(((&lt;pydub.audio_segment.AudioSegment object at...</td>\n",
       "      <td>3.283991</td>\n",
       "      <td>/hd4tb/archivio_barbero/flac/8_Come_scoppiano_...</td>\n",
       "      <td>/hd4tb/archivio_barbero/splits/8_Come_scoppian...</td>\n",
       "    </tr>\n",
       "    <tr>\n",
       "      <th>456</th>\n",
       "      <td>1</td>\n",
       "      <td>(((&lt;pydub.audio_segment.AudioSegment object at...</td>\n",
       "      <td>11.823991</td>\n",
       "      <td>/hd4tb/archivio_barbero/flac/8_Come_scoppiano_...</td>\n",
       "      <td>/hd4tb/archivio_barbero/splits/8_Come_scoppian...</td>\n",
       "    </tr>\n",
       "    <tr>\n",
       "      <th>457</th>\n",
       "      <td>2</td>\n",
       "      <td>(((&lt;pydub.audio_segment.AudioSegment object at...</td>\n",
       "      <td>5.727007</td>\n",
       "      <td>/hd4tb/archivio_barbero/flac/8_Come_scoppiano_...</td>\n",
       "      <td>/hd4tb/archivio_barbero/splits/8_Come_scoppian...</td>\n",
       "    </tr>\n",
       "    <tr>\n",
       "      <th>458</th>\n",
       "      <td>3</td>\n",
       "      <td>(((&lt;pydub.audio_segment.AudioSegment object at...</td>\n",
       "      <td>10.701995</td>\n",
       "      <td>/hd4tb/archivio_barbero/flac/8_Come_scoppiano_...</td>\n",
       "      <td>/hd4tb/archivio_barbero/splits/8_Come_scoppian...</td>\n",
       "    </tr>\n",
       "    <tr>\n",
       "      <th>459</th>\n",
       "      <td>4</td>\n",
       "      <td>(((&lt;pydub.audio_segment.AudioSegment object at...</td>\n",
       "      <td>4.718005</td>\n",
       "      <td>/hd4tb/archivio_barbero/flac/8_Come_scoppiano_...</td>\n",
       "      <td>/hd4tb/archivio_barbero/splits/8_Come_scoppian...</td>\n",
       "    </tr>\n",
       "    <tr>\n",
       "      <th>...</th>\n",
       "      <td>...</td>\n",
       "      <td>...</td>\n",
       "      <td>...</td>\n",
       "      <td>...</td>\n",
       "      <td>...</td>\n",
       "    </tr>\n",
       "    <tr>\n",
       "      <th>808</th>\n",
       "      <td>353</td>\n",
       "      <td>(((&lt;pydub.audio_segment.AudioSegment object at...</td>\n",
       "      <td>3.280998</td>\n",
       "      <td>/hd4tb/archivio_barbero/flac/8_Come_scoppiano_...</td>\n",
       "      <td>/hd4tb/archivio_barbero/splits/8_Come_scoppian...</td>\n",
       "    </tr>\n",
       "    <tr>\n",
       "      <th>809</th>\n",
       "      <td>354</td>\n",
       "      <td>(((&lt;pydub.audio_segment.AudioSegment object at...</td>\n",
       "      <td>7.345986</td>\n",
       "      <td>/hd4tb/archivio_barbero/flac/8_Come_scoppiano_...</td>\n",
       "      <td>/hd4tb/archivio_barbero/splits/8_Come_scoppian...</td>\n",
       "    </tr>\n",
       "    <tr>\n",
       "      <th>810</th>\n",
       "      <td>355</td>\n",
       "      <td>(((&lt;pydub.audio_segment.AudioSegment object at...</td>\n",
       "      <td>6.029002</td>\n",
       "      <td>/hd4tb/archivio_barbero/flac/8_Come_scoppiano_...</td>\n",
       "      <td>/hd4tb/archivio_barbero/splits/8_Come_scoppian...</td>\n",
       "    </tr>\n",
       "    <tr>\n",
       "      <th>811</th>\n",
       "      <td>356</td>\n",
       "      <td>(((&lt;pydub.audio_segment.AudioSegment object at...</td>\n",
       "      <td>16.426009</td>\n",
       "      <td>/hd4tb/archivio_barbero/flac/8_Come_scoppiano_...</td>\n",
       "      <td>/hd4tb/archivio_barbero/splits/8_Come_scoppian...</td>\n",
       "    </tr>\n",
       "    <tr>\n",
       "      <th>812</th>\n",
       "      <td>357</td>\n",
       "      <td>(((&lt;pydub.audio_segment.AudioSegment object at...</td>\n",
       "      <td>14.021995</td>\n",
       "      <td>/hd4tb/archivio_barbero/flac/8_Come_scoppiano_...</td>\n",
       "      <td>/hd4tb/archivio_barbero/splits/8_Come_scoppian...</td>\n",
       "    </tr>\n",
       "  </tbody>\n",
       "</table>\n",
       "<p>358 rows × 5 columns</p>\n",
       "</div>"
      ],
      "text/plain": [
       "     index                                              chunk   duration  \\\n",
       "455      0  (((<pydub.audio_segment.AudioSegment object at...   3.283991   \n",
       "456      1  (((<pydub.audio_segment.AudioSegment object at...  11.823991   \n",
       "457      2  (((<pydub.audio_segment.AudioSegment object at...   5.727007   \n",
       "458      3  (((<pydub.audio_segment.AudioSegment object at...  10.701995   \n",
       "459      4  (((<pydub.audio_segment.AudioSegment object at...   4.718005   \n",
       "..     ...                                                ...        ...   \n",
       "808    353  (((<pydub.audio_segment.AudioSegment object at...   3.280998   \n",
       "809    354  (((<pydub.audio_segment.AudioSegment object at...   7.345986   \n",
       "810    355  (((<pydub.audio_segment.AudioSegment object at...   6.029002   \n",
       "811    356  (((<pydub.audio_segment.AudioSegment object at...  16.426009   \n",
       "812    357  (((<pydub.audio_segment.AudioSegment object at...  14.021995   \n",
       "\n",
       "                                                  flac  \\\n",
       "455  /hd4tb/archivio_barbero/flac/8_Come_scoppiano_...   \n",
       "456  /hd4tb/archivio_barbero/flac/8_Come_scoppiano_...   \n",
       "457  /hd4tb/archivio_barbero/flac/8_Come_scoppiano_...   \n",
       "458  /hd4tb/archivio_barbero/flac/8_Come_scoppiano_...   \n",
       "459  /hd4tb/archivio_barbero/flac/8_Come_scoppiano_...   \n",
       "..                                                 ...   \n",
       "808  /hd4tb/archivio_barbero/flac/8_Come_scoppiano_...   \n",
       "809  /hd4tb/archivio_barbero/flac/8_Come_scoppiano_...   \n",
       "810  /hd4tb/archivio_barbero/flac/8_Come_scoppiano_...   \n",
       "811  /hd4tb/archivio_barbero/flac/8_Come_scoppiano_...   \n",
       "812  /hd4tb/archivio_barbero/flac/8_Come_scoppiano_...   \n",
       "\n",
       "                                                  path  \n",
       "455  /hd4tb/archivio_barbero/splits/8_Come_scoppian...  \n",
       "456  /hd4tb/archivio_barbero/splits/8_Come_scoppian...  \n",
       "457  /hd4tb/archivio_barbero/splits/8_Come_scoppian...  \n",
       "458  /hd4tb/archivio_barbero/splits/8_Come_scoppian...  \n",
       "459  /hd4tb/archivio_barbero/splits/8_Come_scoppian...  \n",
       "..                                                 ...  \n",
       "808  /hd4tb/archivio_barbero/splits/8_Come_scoppian...  \n",
       "809  /hd4tb/archivio_barbero/splits/8_Come_scoppian...  \n",
       "810  /hd4tb/archivio_barbero/splits/8_Come_scoppian...  \n",
       "811  /hd4tb/archivio_barbero/splits/8_Come_scoppian...  \n",
       "812  /hd4tb/archivio_barbero/splits/8_Come_scoppian...  \n",
       "\n",
       "[358 rows x 5 columns]"
      ]
     },
     "execution_count": 217,
     "metadata": {},
     "output_type": "execute_result"
    }
   ],
   "source": [
    "single_chunks2"
   ]
  },
  {
   "cell_type": "markdown",
   "id": "63ddfd52-ef31-440f-a718-1f800983958f",
   "metadata": {},
   "source": [
    "# Upload Files to GCS"
   ]
  },
  {
   "cell_type": "code",
   "execution_count": 117,
   "id": "0323470a-d11c-4a37-a4f3-cdeb55a3f364",
   "metadata": {},
   "outputs": [],
   "source": [
    "os.environ[\"GOOGLE_APPLICATION_CREDENTIALS\"] = \"../secrets/barbero-translations-0ea9c0d3c73f.json\"\n",
    "client = storage.Client()\n",
    "bucket = client.bucket(\"barbero-translations\")"
   ]
  },
  {
   "cell_type": "code",
   "execution_count": 125,
   "id": "364de442-16b9-4d9f-989b-f5cd451c8b4c",
   "metadata": {},
   "outputs": [],
   "source": [
    "def upload(row, bucket):\n",
    "    blob_name = f\"splits/{pathlib.Path(row['flac']).stem}/{pathlib.Path(row['path']).name}\"\n",
    "    blob = bucket.blob(blob_name)\n",
    "    blob.upload_from_filename(row[\"path\"])\n",
    "    return f\"gs://{bucket.name}/{blob_name}\""
   ]
  },
  {
   "cell_type": "code",
   "execution_count": 139,
   "id": "7ce8d282-8436-479d-b461-1d4914e70d16",
   "metadata": {},
   "outputs": [
    {
     "data": {
      "application/vnd.jupyter.widget-view+json": {
       "model_id": "e7e6a28f222a44f88909d52d46c05d3c",
       "version_major": 2,
       "version_minor": 0
      },
      "text/plain": [
       "  0%|          | 0/1052 [00:00<?, ?it/s]"
      ]
     },
     "metadata": {},
     "output_type": "display_data"
    }
   ],
   "source": [
    "single_chunks[\"gcs_uri\"] = single_chunks.progress_apply(upload, axis=1, bucket=bucket)"
   ]
  },
  {
   "cell_type": "code",
   "execution_count": 218,
   "id": "20857f1a-39d4-4f52-881a-97f68bb1a06b",
   "metadata": {},
   "outputs": [
    {
     "data": {
      "application/vnd.jupyter.widget-view+json": {
       "model_id": "2404c3e7b6f04457a7d38b3834ccebac",
       "version_major": 2,
       "version_minor": 0
      },
      "text/plain": [
       "  0%|          | 0/358 [00:00<?, ?it/s]"
      ]
     },
     "metadata": {},
     "output_type": "display_data"
    },
    {
     "name": "stderr",
     "output_type": "stream",
     "text": [
      "/tmp/ipykernel_345412/2522994002.py:1: SettingWithCopyWarning: \n",
      "A value is trying to be set on a copy of a slice from a DataFrame.\n",
      "Try using .loc[row_indexer,col_indexer] = value instead\n",
      "\n",
      "See the caveats in the documentation: https://pandas.pydata.org/pandas-docs/stable/user_guide/indexing.html#returning-a-view-versus-a-copy\n",
      "  single_chunks2[\"gcs_uri\"] = single_chunks2.progress_apply(upload, axis=1, bucket=bucket)\n"
     ]
    }
   ],
   "source": [
    "single_chunks2[\"gcs_uri\"] = single_chunks2.progress_apply(upload, axis=1, bucket=bucket)"
   ]
  },
  {
   "cell_type": "markdown",
   "id": "97b6d2d8-c394-4ab8-87ce-765a4b7356b2",
   "metadata": {},
   "source": [
    "# Speech to Text"
   ]
  },
  {
   "cell_type": "code",
   "execution_count": 131,
   "id": "e5e236a9-6955-41c7-b660-68b427ebaf9f",
   "metadata": {},
   "outputs": [],
   "source": [
    "speech_client = speech.SpeechClient()"
   ]
  },
  {
   "cell_type": "code",
   "execution_count": 141,
   "id": "3c9845bc-9109-4006-81cb-315b20eb0046",
   "metadata": {},
   "outputs": [],
   "source": [
    "def speech_to_text(row, client):\n",
    "    audio = speech.RecognitionAudio(uri=row[\"gcs_uri\"])\n",
    "    transcription_gcs_uri = row[\"gcs_uri\"].replace(\"splits\", \"transcripts\").replace(\".flac\", \".json\")\n",
    "    config = speech.RecognitionConfig(\n",
    "        language_code=\"it-IT\",\n",
    "        profanity_filter=False,\n",
    "        enable_automatic_punctuation=True,\n",
    "        model=\"latest_short\",\n",
    "    )\n",
    "    output_config = speech.TranscriptOutputConfig(\n",
    "        gcs_uri=transcription_gcs_uri,\n",
    "    )\n",
    "    request = speech.LongRunningRecognizeRequest(config=config, audio=audio, output_config=output_config)\n",
    "    operation = client.long_running_recognize(request=request)\n",
    "    response = operation.result()\n",
    "    row[\"transcription_gcs_uri\"] = transcription_gcs_uri\n",
    "    row[\"response\"] = response\n",
    "    return row"
   ]
  },
  {
   "cell_type": "code",
   "execution_count": 142,
   "id": "0a59b856-ad71-4e2a-82ae-2387070bb45b",
   "metadata": {},
   "outputs": [
    {
     "data": {
      "application/vnd.jupyter.widget-view+json": {
       "model_id": "4744a193c8314b83aa670002f433d5de",
       "version_major": 2,
       "version_minor": 0
      },
      "text/plain": [
       "  0%|          | 0/1052 [00:00<?, ?it/s]"
      ]
     },
     "metadata": {},
     "output_type": "display_data"
    }
   ],
   "source": [
    "transcribed = single_chunks.progress_apply(speech_to_text, axis=1, client=speech_client)"
   ]
  },
  {
   "cell_type": "code",
   "execution_count": 219,
   "id": "046a509f-735b-4309-9ecd-eeb2d438820a",
   "metadata": {},
   "outputs": [
    {
     "data": {
      "application/vnd.jupyter.widget-view+json": {
       "model_id": "ba749cd678a84f778b56c3d35239dabd",
       "version_major": 2,
       "version_minor": 0
      },
      "text/plain": [
       "  0%|          | 0/358 [00:00<?, ?it/s]"
      ]
     },
     "metadata": {},
     "output_type": "display_data"
    }
   ],
   "source": [
    "transcribed2 = single_chunks2.progress_apply(speech_to_text, axis=1, client=speech_client)"
   ]
  },
  {
   "cell_type": "code",
   "execution_count": 144,
   "id": "fc3534c4-aefe-44bb-b296-72eb8edd9f7d",
   "metadata": {},
   "outputs": [
    {
     "data": {
      "text/html": [
       "<div>\n",
       "<style scoped>\n",
       "    .dataframe tbody tr th:only-of-type {\n",
       "        vertical-align: middle;\n",
       "    }\n",
       "\n",
       "    .dataframe tbody tr th {\n",
       "        vertical-align: top;\n",
       "    }\n",
       "\n",
       "    .dataframe thead th {\n",
       "        text-align: right;\n",
       "    }\n",
       "</style>\n",
       "<table border=\"1\" class=\"dataframe\">\n",
       "  <thead>\n",
       "    <tr style=\"text-align: right;\">\n",
       "      <th></th>\n",
       "      <th>0</th>\n",
       "    </tr>\n",
       "  </thead>\n",
       "  <tbody>\n",
       "    <tr>\n",
       "      <th>index</th>\n",
       "      <td>0</td>\n",
       "    </tr>\n",
       "    <tr>\n",
       "      <th>chunk</th>\n",
       "      <td>(((&lt;pydub.audio_segment.AudioSegment object at...</td>\n",
       "    </tr>\n",
       "    <tr>\n",
       "      <th>duration</th>\n",
       "      <td>22.165986</td>\n",
       "    </tr>\n",
       "    <tr>\n",
       "      <th>flac</th>\n",
       "      <td>/hd4tb/archivio_barbero/flac/7_La_Prima_Guerra...</td>\n",
       "    </tr>\n",
       "    <tr>\n",
       "      <th>path</th>\n",
       "      <td>/hd4tb/archivio_barbero/splits/7_La_Prima_Guer...</td>\n",
       "    </tr>\n",
       "    <tr>\n",
       "      <th>gcs_uri</th>\n",
       "      <td>gs://barbero-translations/splits/7_La_Prima_Gu...</td>\n",
       "    </tr>\n",
       "    <tr>\n",
       "      <th>transcription_gcs_uri</th>\n",
       "      <td>gs://barbero-translations/transcripts/7_La_Pri...</td>\n",
       "    </tr>\n",
       "    <tr>\n",
       "      <th>response</th>\n",
       "      <td>results {\\n  alternatives {\\n    transcript: \"...</td>\n",
       "    </tr>\n",
       "  </tbody>\n",
       "</table>\n",
       "</div>"
      ],
      "text/plain": [
       "                                                                       0\n",
       "index                                                                  0\n",
       "chunk                  (((<pydub.audio_segment.AudioSegment object at...\n",
       "duration                                                       22.165986\n",
       "flac                   /hd4tb/archivio_barbero/flac/7_La_Prima_Guerra...\n",
       "path                   /hd4tb/archivio_barbero/splits/7_La_Prima_Guer...\n",
       "gcs_uri                gs://barbero-translations/splits/7_La_Prima_Gu...\n",
       "transcription_gcs_uri  gs://barbero-translations/transcripts/7_La_Pri...\n",
       "response               results {\\n  alternatives {\\n    transcript: \"..."
      ]
     },
     "execution_count": 144,
     "metadata": {},
     "output_type": "execute_result"
    }
   ],
   "source": [
    "transcribed.head(1).transpose()"
   ]
  },
  {
   "cell_type": "code",
   "execution_count": 222,
   "id": "ccf9559b-ab91-4400-8891-f8de346ab2f8",
   "metadata": {},
   "outputs": [],
   "source": [
    "transcribed = pd.concat((transcribed[~transcribed[\"flac\"].apply(str).str.contains(\"seconda\")], transcribed2)).sort_values([\"flac\", \"index\"]).reset_index(drop=True)"
   ]
  },
  {
   "cell_type": "markdown",
   "id": "d1ca4177-0bd2-46ad-a418-4e3283399756",
   "metadata": {},
   "source": [
    "# Extract the speech to text results"
   ]
  },
  {
   "cell_type": "code",
   "execution_count": 160,
   "id": "8a91ae3d-c95e-4e10-8b6c-b0ba5f4ce033",
   "metadata": {},
   "outputs": [],
   "source": [
    "def extract_result(row):\n",
    "    row[\"transcription\"] = \" \".join(x.alternatives[0].transcript for x in row[\"response\"].results)\n",
    "    row[\"billed_time\"] = row[\"response\"].total_billed_time\n",
    "    return row"
   ]
  },
  {
   "cell_type": "code",
   "execution_count": 223,
   "id": "d05acabb-7c26-4001-a34a-e74537693be9",
   "metadata": {},
   "outputs": [
    {
     "data": {
      "application/vnd.jupyter.widget-view+json": {
       "model_id": "461187f71ccd4fd3af867c3e9d80a17d",
       "version_major": 2,
       "version_minor": 0
      },
      "text/plain": [
       "  0%|          | 0/901 [00:00<?, ?it/s]"
      ]
     },
     "metadata": {},
     "output_type": "display_data"
    }
   ],
   "source": [
    "extracted = transcribed.progress_apply(extract_result, axis=1)"
   ]
  },
  {
   "cell_type": "code",
   "execution_count": 224,
   "id": "c8482743-8d19-4ad0-b11c-b3c430462121",
   "metadata": {},
   "outputs": [
    {
     "data": {
      "text/html": [
       "<div>\n",
       "<style scoped>\n",
       "    .dataframe tbody tr th:only-of-type {\n",
       "        vertical-align: middle;\n",
       "    }\n",
       "\n",
       "    .dataframe tbody tr th {\n",
       "        vertical-align: top;\n",
       "    }\n",
       "\n",
       "    .dataframe thead th {\n",
       "        text-align: right;\n",
       "    }\n",
       "</style>\n",
       "<table border=\"1\" class=\"dataframe\">\n",
       "  <thead>\n",
       "    <tr style=\"text-align: right;\">\n",
       "      <th></th>\n",
       "      <th>transcription</th>\n",
       "      <th>billed_time</th>\n",
       "      <th>duration</th>\n",
       "    </tr>\n",
       "  </thead>\n",
       "  <tbody>\n",
       "    <tr>\n",
       "      <th>0</th>\n",
       "      <td>Buongiorno buonasera Bentornata. E bentornati ...</td>\n",
       "      <td>0 days 00:00:30</td>\n",
       "      <td>22.165986</td>\n",
       "    </tr>\n",
       "    <tr>\n",
       "      <th>1</th>\n",
       "      <td>Oggi ascoltiamo un episodio Barbero riserva un...</td>\n",
       "      <td>0 days 00:00:30</td>\n",
       "      <td>24.799002</td>\n",
       "    </tr>\n",
       "    <tr>\n",
       "      <th>2</th>\n",
       "      <td>Scoppiano le guerre qualche mese fa, quando ab...</td>\n",
       "      <td>0 days 00:00:15</td>\n",
       "      <td>7.280000</td>\n",
       "    </tr>\n",
       "    <tr>\n",
       "      <th>3</th>\n",
       "      <td>C'era già un po' il clima che in fondo c'è anc...</td>\n",
       "      <td>0 days 00:00:15</td>\n",
       "      <td>5.009002</td>\n",
       "    </tr>\n",
       "    <tr>\n",
       "      <th>4</th>\n",
       "      <td>Notizie dall'ucraina c'era una notizia dall'ir...</td>\n",
       "      <td>0 days 00:00:15</td>\n",
       "      <td>10.540000</td>\n",
       "    </tr>\n",
       "    <tr>\n",
       "      <th>...</th>\n",
       "      <td>...</td>\n",
       "      <td>...</td>\n",
       "      <td>...</td>\n",
       "    </tr>\n",
       "    <tr>\n",
       "      <th>896</th>\n",
       "      <td>Quel deputato Enoch Powell che era intervenuto...</td>\n",
       "      <td>0 days 00:00:45</td>\n",
       "      <td>45.026984</td>\n",
       "    </tr>\n",
       "    <tr>\n",
       "      <th>897</th>\n",
       "      <td>E poche settimane dopo in un discorso ufficial...</td>\n",
       "      <td>0 days 00:00:15</td>\n",
       "      <td>7.390000</td>\n",
       "    </tr>\n",
       "    <tr>\n",
       "      <th>898</th>\n",
       "      <td>Quello che mi ha elettrizzato davvero dopo ave...</td>\n",
       "      <td>0 days 00:00:45</td>\n",
       "      <td>38.103016</td>\n",
       "    </tr>\n",
       "    <tr>\n",
       "      <th>899</th>\n",
       "      <td>Ecco forse sarebbe stata più sincera, se avess...</td>\n",
       "      <td>0 days 00:00:45</td>\n",
       "      <td>30.986984</td>\n",
       "    </tr>\n",
       "    <tr>\n",
       "      <th>900</th>\n",
       "      <td>Ecco così com'è andare a rivedere in queste tr...</td>\n",
       "      <td>0 days 00:02:15</td>\n",
       "      <td>122.690998</td>\n",
       "    </tr>\n",
       "  </tbody>\n",
       "</table>\n",
       "<p>901 rows × 3 columns</p>\n",
       "</div>"
      ],
      "text/plain": [
       "                                         transcription     billed_time  \\\n",
       "0    Buongiorno buonasera Bentornata. E bentornati ... 0 days 00:00:30   \n",
       "1    Oggi ascoltiamo un episodio Barbero riserva un... 0 days 00:00:30   \n",
       "2    Scoppiano le guerre qualche mese fa, quando ab... 0 days 00:00:15   \n",
       "3    C'era già un po' il clima che in fondo c'è anc... 0 days 00:00:15   \n",
       "4    Notizie dall'ucraina c'era una notizia dall'ir... 0 days 00:00:15   \n",
       "..                                                 ...             ...   \n",
       "896  Quel deputato Enoch Powell che era intervenuto... 0 days 00:00:45   \n",
       "897  E poche settimane dopo in un discorso ufficial... 0 days 00:00:15   \n",
       "898  Quello che mi ha elettrizzato davvero dopo ave... 0 days 00:00:45   \n",
       "899  Ecco forse sarebbe stata più sincera, se avess... 0 days 00:00:45   \n",
       "900  Ecco così com'è andare a rivedere in queste tr... 0 days 00:02:15   \n",
       "\n",
       "       duration  \n",
       "0     22.165986  \n",
       "1     24.799002  \n",
       "2      7.280000  \n",
       "3      5.009002  \n",
       "4     10.540000  \n",
       "..          ...  \n",
       "896   45.026984  \n",
       "897    7.390000  \n",
       "898   38.103016  \n",
       "899   30.986984  \n",
       "900  122.690998  \n",
       "\n",
       "[901 rows x 3 columns]"
      ]
     },
     "execution_count": 224,
     "metadata": {},
     "output_type": "execute_result"
    }
   ],
   "source": [
    "extracted[[\"transcription\", \"billed_time\", \"duration\"]]"
   ]
  },
  {
   "cell_type": "markdown",
   "id": "dd096f76-8471-4109-86cc-257d25c4c903",
   "metadata": {},
   "source": [
    "Total billed transcription time:"
   ]
  },
  {
   "cell_type": "code",
   "execution_count": 163,
   "id": "11e7494f-b9af-4162-bc22-989417c9940b",
   "metadata": {},
   "outputs": [
    {
     "data": {
      "text/plain": [
       "Timedelta('0 days 05:48:15')"
      ]
     },
     "execution_count": 163,
     "metadata": {},
     "output_type": "execute_result"
    }
   ],
   "source": [
    "extracted[\"billed_time\"].sum()"
   ]
  },
  {
   "cell_type": "markdown",
   "id": "a57e63f2-fcd4-4f10-ab08-6af7c024c388",
   "metadata": {},
   "source": [
    "Total audio time:"
   ]
  },
  {
   "cell_type": "code",
   "execution_count": 164,
   "id": "d9bbec64-2398-426b-880f-35402999a417",
   "metadata": {},
   "outputs": [
    {
     "data": {
      "text/plain": [
       "Timedelta('0 days 03:22:23.876961451')"
      ]
     },
     "execution_count": 164,
     "metadata": {},
     "output_type": "execute_result"
    }
   ],
   "source": [
    "pd.to_timedelta(extracted[\"duration\"].sum(), unit=\"s\")"
   ]
  },
  {
   "cell_type": "markdown",
   "id": "e07105a8-7a5a-4815-b84e-5b495bf8fd0c",
   "metadata": {},
   "source": [
    "# Manually clean the transcription"
   ]
  },
  {
   "cell_type": "code",
   "execution_count": 225,
   "id": "257f77a0-d0a3-4981-90d6-655c741f7e87",
   "metadata": {},
   "outputs": [],
   "source": [
    "extracted[\"edited_transcription\"] = extracted[\"transcription\"]\n",
    "extracted[\"barbero\"] = 1\n",
    "extracted[[\"barbero\", \"edited_transcription\", \"path\"]].to_csv(\"../data/extracted2.csv\")"
   ]
  },
  {
   "cell_type": "code",
   "execution_count": 233,
   "id": "c3628ab1-d939-4c0d-854b-de167cc07201",
   "metadata": {},
   "outputs": [],
   "source": [
    "cleaned = pd.read_csv(\"../data/extracted.csv\").rename(columns={\"Unnamed: 0\": \"index\"}).astype({\"index\": \"Int64\"}).sort_values(\"index\")"
   ]
  },
  {
   "cell_type": "code",
   "execution_count": 234,
   "id": "b6d5b52d-7106-465e-aa94-56e69552ec2f",
   "metadata": {},
   "outputs": [
    {
     "data": {
      "text/html": [
       "<div>\n",
       "<style scoped>\n",
       "    .dataframe tbody tr th:only-of-type {\n",
       "        vertical-align: middle;\n",
       "    }\n",
       "\n",
       "    .dataframe tbody tr th {\n",
       "        vertical-align: top;\n",
       "    }\n",
       "\n",
       "    .dataframe thead th {\n",
       "        text-align: right;\n",
       "    }\n",
       "</style>\n",
       "<table border=\"1\" class=\"dataframe\">\n",
       "  <thead>\n",
       "    <tr style=\"text-align: right;\">\n",
       "      <th></th>\n",
       "      <th>index</th>\n",
       "      <th>barbero</th>\n",
       "      <th>edited_transcription</th>\n",
       "      <th>path</th>\n",
       "    </tr>\n",
       "  </thead>\n",
       "  <tbody>\n",
       "    <tr>\n",
       "      <th>0</th>\n",
       "      <td>0</td>\n",
       "      <td>0</td>\n",
       "      <td>Buongiorno buonasera Bentornata. E bentornati ...</td>\n",
       "      <td>/hd4tb/archivio_barbero/splits/7_La_Prima_Guer...</td>\n",
       "    </tr>\n",
       "    <tr>\n",
       "      <th>1</th>\n",
       "      <td>1</td>\n",
       "      <td>0</td>\n",
       "      <td>Oggi ascoltiamo un episodio Barbero riserva un...</td>\n",
       "      <td>/hd4tb/archivio_barbero/splits/7_La_Prima_Guer...</td>\n",
       "    </tr>\n",
       "    <tr>\n",
       "      <th>2</th>\n",
       "      <td>2</td>\n",
       "      <td>1</td>\n",
       "      <td>Scoppiano le guerre qualche mese fa, quando ab...</td>\n",
       "      <td>/hd4tb/archivio_barbero/splits/7_La_Prima_Guer...</td>\n",
       "    </tr>\n",
       "    <tr>\n",
       "      <th>3</th>\n",
       "      <td>3</td>\n",
       "      <td>1</td>\n",
       "      <td>Zana, c'era già un po' il clima che in fondo c...</td>\n",
       "      <td>/hd4tb/archivio_barbero/splits/7_La_Prima_Guer...</td>\n",
       "    </tr>\n",
       "    <tr>\n",
       "      <th>4</th>\n",
       "      <td>4</td>\n",
       "      <td>1</td>\n",
       "      <td>Notizie dall'ucraina c'era una notizia dall'ir...</td>\n",
       "      <td>/hd4tb/archivio_barbero/splits/7_La_Prima_Guer...</td>\n",
       "    </tr>\n",
       "    <tr>\n",
       "      <th>...</th>\n",
       "      <td>...</td>\n",
       "      <td>...</td>\n",
       "      <td>...</td>\n",
       "      <td>...</td>\n",
       "    </tr>\n",
       "    <tr>\n",
       "      <th>538</th>\n",
       "      <td>1047</td>\n",
       "      <td>1</td>\n",
       "      <td>Quel deputato Enoch Powell che era intervenuto...</td>\n",
       "      <td>/hd4tb/archivio_barbero/splits/9_La_Guerra_del...</td>\n",
       "    </tr>\n",
       "    <tr>\n",
       "      <th>539</th>\n",
       "      <td>1048</td>\n",
       "      <td>1</td>\n",
       "      <td>E poche settimane dopo in un discorso ufficial...</td>\n",
       "      <td>/hd4tb/archivio_barbero/splits/9_La_Guerra_del...</td>\n",
       "    </tr>\n",
       "    <tr>\n",
       "      <th>540</th>\n",
       "      <td>1049</td>\n",
       "      <td>1</td>\n",
       "      <td>Quello che mi ha elettrizzata davvero dopo ave...</td>\n",
       "      <td>/hd4tb/archivio_barbero/splits/9_La_Guerra_del...</td>\n",
       "    </tr>\n",
       "    <tr>\n",
       "      <th>541</th>\n",
       "      <td>1050</td>\n",
       "      <td>1</td>\n",
       "      <td>Ecco forse sarebbe stata più sincera, se avess...</td>\n",
       "      <td>/hd4tb/archivio_barbero/splits/9_La_Guerra_del...</td>\n",
       "    </tr>\n",
       "    <tr>\n",
       "      <th>542</th>\n",
       "      <td>1051</td>\n",
       "      <td>0</td>\n",
       "      <td>Ecco così com'è andare a rivedere in queste tr...</td>\n",
       "      <td>/hd4tb/archivio_barbero/splits/9_La_Guerra_del...</td>\n",
       "    </tr>\n",
       "  </tbody>\n",
       "</table>\n",
       "<p>901 rows × 4 columns</p>\n",
       "</div>"
      ],
      "text/plain": [
       "     index  barbero                               edited_transcription  \\\n",
       "0        0        0  Buongiorno buonasera Bentornata. E bentornati ...   \n",
       "1        1        0  Oggi ascoltiamo un episodio Barbero riserva un...   \n",
       "2        2        1  Scoppiano le guerre qualche mese fa, quando ab...   \n",
       "3        3        1  Zana, c'era già un po' il clima che in fondo c...   \n",
       "4        4        1  Notizie dall'ucraina c'era una notizia dall'ir...   \n",
       "..     ...      ...                                                ...   \n",
       "538   1047        1  Quel deputato Enoch Powell che era intervenuto...   \n",
       "539   1048        1  E poche settimane dopo in un discorso ufficial...   \n",
       "540   1049        1  Quello che mi ha elettrizzata davvero dopo ave...   \n",
       "541   1050        1  Ecco forse sarebbe stata più sincera, se avess...   \n",
       "542   1051        0  Ecco così com'è andare a rivedere in queste tr...   \n",
       "\n",
       "                                                  path  \n",
       "0    /hd4tb/archivio_barbero/splits/7_La_Prima_Guer...  \n",
       "1    /hd4tb/archivio_barbero/splits/7_La_Prima_Guer...  \n",
       "2    /hd4tb/archivio_barbero/splits/7_La_Prima_Guer...  \n",
       "3    /hd4tb/archivio_barbero/splits/7_La_Prima_Guer...  \n",
       "4    /hd4tb/archivio_barbero/splits/7_La_Prima_Guer...  \n",
       "..                                                 ...  \n",
       "538  /hd4tb/archivio_barbero/splits/9_La_Guerra_del...  \n",
       "539  /hd4tb/archivio_barbero/splits/9_La_Guerra_del...  \n",
       "540  /hd4tb/archivio_barbero/splits/9_La_Guerra_del...  \n",
       "541  /hd4tb/archivio_barbero/splits/9_La_Guerra_del...  \n",
       "542  /hd4tb/archivio_barbero/splits/9_La_Guerra_del...  \n",
       "\n",
       "[901 rows x 4 columns]"
      ]
     },
     "execution_count": 234,
     "metadata": {},
     "output_type": "execute_result"
    }
   ],
   "source": [
    "cleaned"
   ]
  },
  {
   "cell_type": "code",
   "execution_count": 244,
   "id": "40b4e290-0a6c-4db9-9607-e5982e9a2b6f",
   "metadata": {},
   "outputs": [],
   "source": [
    "extracted[\"path\"] = extracted[\"path\"].apply(str)\n",
    "merged = pd.merge(\n",
    "    extracted.drop(columns=[\"edited_transcription\", \"barbero\", \"index\"]),\n",
    "    cleaned,\n",
    "    on=[\"path\"],\n",
    "    how=\"left\",\n",
    ")"
   ]
  },
  {
   "cell_type": "code",
   "execution_count": 245,
   "id": "bbdf8e5c-db29-42d9-bb55-6505e6d772ca",
   "metadata": {},
   "outputs": [
    {
     "data": {
      "text/html": [
       "<div>\n",
       "<style scoped>\n",
       "    .dataframe tbody tr th:only-of-type {\n",
       "        vertical-align: middle;\n",
       "    }\n",
       "\n",
       "    .dataframe tbody tr th {\n",
       "        vertical-align: top;\n",
       "    }\n",
       "\n",
       "    .dataframe thead th {\n",
       "        text-align: right;\n",
       "    }\n",
       "</style>\n",
       "<table border=\"1\" class=\"dataframe\">\n",
       "  <thead>\n",
       "    <tr style=\"text-align: right;\">\n",
       "      <th></th>\n",
       "      <th>chunk</th>\n",
       "      <th>duration</th>\n",
       "      <th>flac</th>\n",
       "      <th>path</th>\n",
       "      <th>gcs_uri</th>\n",
       "      <th>transcription_gcs_uri</th>\n",
       "      <th>response</th>\n",
       "      <th>transcription</th>\n",
       "      <th>billed_time</th>\n",
       "      <th>index</th>\n",
       "      <th>barbero</th>\n",
       "      <th>edited_transcription</th>\n",
       "    </tr>\n",
       "  </thead>\n",
       "  <tbody>\n",
       "    <tr>\n",
       "      <th>0</th>\n",
       "      <td>(((&lt;pydub.audio_segment.AudioSegment object at...</td>\n",
       "      <td>22.165986</td>\n",
       "      <td>/hd4tb/archivio_barbero/flac/7_La_Prima_Guerra...</td>\n",
       "      <td>/hd4tb/archivio_barbero/splits/7_La_Prima_Guer...</td>\n",
       "      <td>gs://barbero-translations/splits/7_La_Prima_Gu...</td>\n",
       "      <td>gs://barbero-translations/transcripts/7_La_Pri...</td>\n",
       "      <td>results {\\n  alternatives {\\n    transcript: \"...</td>\n",
       "      <td>Buongiorno buonasera Bentornata. E bentornati ...</td>\n",
       "      <td>0 days 00:00:30</td>\n",
       "      <td>0</td>\n",
       "      <td>0</td>\n",
       "      <td>Buongiorno buonasera Bentornata. E bentornati ...</td>\n",
       "    </tr>\n",
       "    <tr>\n",
       "      <th>1</th>\n",
       "      <td>(((&lt;pydub.audio_segment.AudioSegment object at...</td>\n",
       "      <td>24.799002</td>\n",
       "      <td>/hd4tb/archivio_barbero/flac/7_La_Prima_Guerra...</td>\n",
       "      <td>/hd4tb/archivio_barbero/splits/7_La_Prima_Guer...</td>\n",
       "      <td>gs://barbero-translations/splits/7_La_Prima_Gu...</td>\n",
       "      <td>gs://barbero-translations/transcripts/7_La_Pri...</td>\n",
       "      <td>results {\\n  alternatives {\\n    transcript: \"...</td>\n",
       "      <td>Oggi ascoltiamo un episodio Barbero riserva un...</td>\n",
       "      <td>0 days 00:00:30</td>\n",
       "      <td>1</td>\n",
       "      <td>0</td>\n",
       "      <td>Oggi ascoltiamo un episodio Barbero riserva un...</td>\n",
       "    </tr>\n",
       "    <tr>\n",
       "      <th>2</th>\n",
       "      <td>(((&lt;pydub.audio_segment.AudioSegment object at...</td>\n",
       "      <td>7.280000</td>\n",
       "      <td>/hd4tb/archivio_barbero/flac/7_La_Prima_Guerra...</td>\n",
       "      <td>/hd4tb/archivio_barbero/splits/7_La_Prima_Guer...</td>\n",
       "      <td>gs://barbero-translations/splits/7_La_Prima_Gu...</td>\n",
       "      <td>gs://barbero-translations/transcripts/7_La_Pri...</td>\n",
       "      <td>results {\\n  alternatives {\\n    transcript: \"...</td>\n",
       "      <td>Scoppiano le guerre qualche mese fa, quando ab...</td>\n",
       "      <td>0 days 00:00:15</td>\n",
       "      <td>2</td>\n",
       "      <td>1</td>\n",
       "      <td>Scoppiano le guerre qualche mese fa, quando ab...</td>\n",
       "    </tr>\n",
       "    <tr>\n",
       "      <th>3</th>\n",
       "      <td>(((&lt;pydub.audio_segment.AudioSegment object at...</td>\n",
       "      <td>5.009002</td>\n",
       "      <td>/hd4tb/archivio_barbero/flac/7_La_Prima_Guerra...</td>\n",
       "      <td>/hd4tb/archivio_barbero/splits/7_La_Prima_Guer...</td>\n",
       "      <td>gs://barbero-translations/splits/7_La_Prima_Gu...</td>\n",
       "      <td>gs://barbero-translations/transcripts/7_La_Pri...</td>\n",
       "      <td>results {\\n  alternatives {\\n    transcript: \"...</td>\n",
       "      <td>C'era già un po' il clima che in fondo c'è anc...</td>\n",
       "      <td>0 days 00:00:15</td>\n",
       "      <td>3</td>\n",
       "      <td>1</td>\n",
       "      <td>Zana, c'era già un po' il clima che in fondo c...</td>\n",
       "    </tr>\n",
       "    <tr>\n",
       "      <th>4</th>\n",
       "      <td>(((&lt;pydub.audio_segment.AudioSegment object at...</td>\n",
       "      <td>10.540000</td>\n",
       "      <td>/hd4tb/archivio_barbero/flac/7_La_Prima_Guerra...</td>\n",
       "      <td>/hd4tb/archivio_barbero/splits/7_La_Prima_Guer...</td>\n",
       "      <td>gs://barbero-translations/splits/7_La_Prima_Gu...</td>\n",
       "      <td>gs://barbero-translations/transcripts/7_La_Pri...</td>\n",
       "      <td>results {\\n  alternatives {\\n    transcript: \"...</td>\n",
       "      <td>Notizie dall'ucraina c'era una notizia dall'ir...</td>\n",
       "      <td>0 days 00:00:15</td>\n",
       "      <td>4</td>\n",
       "      <td>1</td>\n",
       "      <td>Notizie dall'ucraina c'era una notizia dall'ir...</td>\n",
       "    </tr>\n",
       "    <tr>\n",
       "      <th>...</th>\n",
       "      <td>...</td>\n",
       "      <td>...</td>\n",
       "      <td>...</td>\n",
       "      <td>...</td>\n",
       "      <td>...</td>\n",
       "      <td>...</td>\n",
       "      <td>...</td>\n",
       "      <td>...</td>\n",
       "      <td>...</td>\n",
       "      <td>...</td>\n",
       "      <td>...</td>\n",
       "      <td>...</td>\n",
       "    </tr>\n",
       "    <tr>\n",
       "      <th>896</th>\n",
       "      <td>(((&lt;pydub.audio_segment.AudioSegment object at...</td>\n",
       "      <td>45.026984</td>\n",
       "      <td>/hd4tb/archivio_barbero/flac/9_La_Guerra_delle...</td>\n",
       "      <td>/hd4tb/archivio_barbero/splits/9_La_Guerra_del...</td>\n",
       "      <td>gs://barbero-translations/splits/9_La_Guerra_d...</td>\n",
       "      <td>gs://barbero-translations/transcripts/9_La_Gue...</td>\n",
       "      <td>results {\\n  alternatives {\\n    transcript: \"...</td>\n",
       "      <td>Quel deputato Enoch Powell che era intervenuto...</td>\n",
       "      <td>0 days 00:00:45</td>\n",
       "      <td>1047</td>\n",
       "      <td>1</td>\n",
       "      <td>Quel deputato Enoch Powell che era intervenuto...</td>\n",
       "    </tr>\n",
       "    <tr>\n",
       "      <th>897</th>\n",
       "      <td>(((&lt;pydub.audio_segment.AudioSegment object at...</td>\n",
       "      <td>7.390000</td>\n",
       "      <td>/hd4tb/archivio_barbero/flac/9_La_Guerra_delle...</td>\n",
       "      <td>/hd4tb/archivio_barbero/splits/9_La_Guerra_del...</td>\n",
       "      <td>gs://barbero-translations/splits/9_La_Guerra_d...</td>\n",
       "      <td>gs://barbero-translations/transcripts/9_La_Gue...</td>\n",
       "      <td>results {\\n  alternatives {\\n    transcript: \"...</td>\n",
       "      <td>E poche settimane dopo in un discorso ufficial...</td>\n",
       "      <td>0 days 00:00:15</td>\n",
       "      <td>1048</td>\n",
       "      <td>1</td>\n",
       "      <td>E poche settimane dopo in un discorso ufficial...</td>\n",
       "    </tr>\n",
       "    <tr>\n",
       "      <th>898</th>\n",
       "      <td>(((&lt;pydub.audio_segment.AudioSegment object at...</td>\n",
       "      <td>38.103016</td>\n",
       "      <td>/hd4tb/archivio_barbero/flac/9_La_Guerra_delle...</td>\n",
       "      <td>/hd4tb/archivio_barbero/splits/9_La_Guerra_del...</td>\n",
       "      <td>gs://barbero-translations/splits/9_La_Guerra_d...</td>\n",
       "      <td>gs://barbero-translations/transcripts/9_La_Gue...</td>\n",
       "      <td>results {\\n  alternatives {\\n    transcript: \"...</td>\n",
       "      <td>Quello che mi ha elettrizzato davvero dopo ave...</td>\n",
       "      <td>0 days 00:00:45</td>\n",
       "      <td>1049</td>\n",
       "      <td>1</td>\n",
       "      <td>Quello che mi ha elettrizzata davvero dopo ave...</td>\n",
       "    </tr>\n",
       "    <tr>\n",
       "      <th>899</th>\n",
       "      <td>(((&lt;pydub.audio_segment.AudioSegment object at...</td>\n",
       "      <td>30.986984</td>\n",
       "      <td>/hd4tb/archivio_barbero/flac/9_La_Guerra_delle...</td>\n",
       "      <td>/hd4tb/archivio_barbero/splits/9_La_Guerra_del...</td>\n",
       "      <td>gs://barbero-translations/splits/9_La_Guerra_d...</td>\n",
       "      <td>gs://barbero-translations/transcripts/9_La_Gue...</td>\n",
       "      <td>results {\\n  alternatives {\\n    transcript: \"...</td>\n",
       "      <td>Ecco forse sarebbe stata più sincera, se avess...</td>\n",
       "      <td>0 days 00:00:45</td>\n",
       "      <td>1050</td>\n",
       "      <td>1</td>\n",
       "      <td>Ecco forse sarebbe stata più sincera, se avess...</td>\n",
       "    </tr>\n",
       "    <tr>\n",
       "      <th>900</th>\n",
       "      <td>(((&lt;pydub.audio_segment.AudioSegment object at...</td>\n",
       "      <td>122.690998</td>\n",
       "      <td>/hd4tb/archivio_barbero/flac/9_La_Guerra_delle...</td>\n",
       "      <td>/hd4tb/archivio_barbero/splits/9_La_Guerra_del...</td>\n",
       "      <td>gs://barbero-translations/splits/9_La_Guerra_d...</td>\n",
       "      <td>gs://barbero-translations/transcripts/9_La_Gue...</td>\n",
       "      <td>results {\\n  alternatives {\\n    transcript: \"...</td>\n",
       "      <td>Ecco così com'è andare a rivedere in queste tr...</td>\n",
       "      <td>0 days 00:02:15</td>\n",
       "      <td>1051</td>\n",
       "      <td>0</td>\n",
       "      <td>Ecco così com'è andare a rivedere in queste tr...</td>\n",
       "    </tr>\n",
       "  </tbody>\n",
       "</table>\n",
       "<p>901 rows × 12 columns</p>\n",
       "</div>"
      ],
      "text/plain": [
       "                                                 chunk    duration  \\\n",
       "0    (((<pydub.audio_segment.AudioSegment object at...   22.165986   \n",
       "1    (((<pydub.audio_segment.AudioSegment object at...   24.799002   \n",
       "2    (((<pydub.audio_segment.AudioSegment object at...    7.280000   \n",
       "3    (((<pydub.audio_segment.AudioSegment object at...    5.009002   \n",
       "4    (((<pydub.audio_segment.AudioSegment object at...   10.540000   \n",
       "..                                                 ...         ...   \n",
       "896  (((<pydub.audio_segment.AudioSegment object at...   45.026984   \n",
       "897  (((<pydub.audio_segment.AudioSegment object at...    7.390000   \n",
       "898  (((<pydub.audio_segment.AudioSegment object at...   38.103016   \n",
       "899  (((<pydub.audio_segment.AudioSegment object at...   30.986984   \n",
       "900  (((<pydub.audio_segment.AudioSegment object at...  122.690998   \n",
       "\n",
       "                                                  flac  \\\n",
       "0    /hd4tb/archivio_barbero/flac/7_La_Prima_Guerra...   \n",
       "1    /hd4tb/archivio_barbero/flac/7_La_Prima_Guerra...   \n",
       "2    /hd4tb/archivio_barbero/flac/7_La_Prima_Guerra...   \n",
       "3    /hd4tb/archivio_barbero/flac/7_La_Prima_Guerra...   \n",
       "4    /hd4tb/archivio_barbero/flac/7_La_Prima_Guerra...   \n",
       "..                                                 ...   \n",
       "896  /hd4tb/archivio_barbero/flac/9_La_Guerra_delle...   \n",
       "897  /hd4tb/archivio_barbero/flac/9_La_Guerra_delle...   \n",
       "898  /hd4tb/archivio_barbero/flac/9_La_Guerra_delle...   \n",
       "899  /hd4tb/archivio_barbero/flac/9_La_Guerra_delle...   \n",
       "900  /hd4tb/archivio_barbero/flac/9_La_Guerra_delle...   \n",
       "\n",
       "                                                  path  \\\n",
       "0    /hd4tb/archivio_barbero/splits/7_La_Prima_Guer...   \n",
       "1    /hd4tb/archivio_barbero/splits/7_La_Prima_Guer...   \n",
       "2    /hd4tb/archivio_barbero/splits/7_La_Prima_Guer...   \n",
       "3    /hd4tb/archivio_barbero/splits/7_La_Prima_Guer...   \n",
       "4    /hd4tb/archivio_barbero/splits/7_La_Prima_Guer...   \n",
       "..                                                 ...   \n",
       "896  /hd4tb/archivio_barbero/splits/9_La_Guerra_del...   \n",
       "897  /hd4tb/archivio_barbero/splits/9_La_Guerra_del...   \n",
       "898  /hd4tb/archivio_barbero/splits/9_La_Guerra_del...   \n",
       "899  /hd4tb/archivio_barbero/splits/9_La_Guerra_del...   \n",
       "900  /hd4tb/archivio_barbero/splits/9_La_Guerra_del...   \n",
       "\n",
       "                                               gcs_uri  \\\n",
       "0    gs://barbero-translations/splits/7_La_Prima_Gu...   \n",
       "1    gs://barbero-translations/splits/7_La_Prima_Gu...   \n",
       "2    gs://barbero-translations/splits/7_La_Prima_Gu...   \n",
       "3    gs://barbero-translations/splits/7_La_Prima_Gu...   \n",
       "4    gs://barbero-translations/splits/7_La_Prima_Gu...   \n",
       "..                                                 ...   \n",
       "896  gs://barbero-translations/splits/9_La_Guerra_d...   \n",
       "897  gs://barbero-translations/splits/9_La_Guerra_d...   \n",
       "898  gs://barbero-translations/splits/9_La_Guerra_d...   \n",
       "899  gs://barbero-translations/splits/9_La_Guerra_d...   \n",
       "900  gs://barbero-translations/splits/9_La_Guerra_d...   \n",
       "\n",
       "                                 transcription_gcs_uri  \\\n",
       "0    gs://barbero-translations/transcripts/7_La_Pri...   \n",
       "1    gs://barbero-translations/transcripts/7_La_Pri...   \n",
       "2    gs://barbero-translations/transcripts/7_La_Pri...   \n",
       "3    gs://barbero-translations/transcripts/7_La_Pri...   \n",
       "4    gs://barbero-translations/transcripts/7_La_Pri...   \n",
       "..                                                 ...   \n",
       "896  gs://barbero-translations/transcripts/9_La_Gue...   \n",
       "897  gs://barbero-translations/transcripts/9_La_Gue...   \n",
       "898  gs://barbero-translations/transcripts/9_La_Gue...   \n",
       "899  gs://barbero-translations/transcripts/9_La_Gue...   \n",
       "900  gs://barbero-translations/transcripts/9_La_Gue...   \n",
       "\n",
       "                                              response  \\\n",
       "0    results {\\n  alternatives {\\n    transcript: \"...   \n",
       "1    results {\\n  alternatives {\\n    transcript: \"...   \n",
       "2    results {\\n  alternatives {\\n    transcript: \"...   \n",
       "3    results {\\n  alternatives {\\n    transcript: \"...   \n",
       "4    results {\\n  alternatives {\\n    transcript: \"...   \n",
       "..                                                 ...   \n",
       "896  results {\\n  alternatives {\\n    transcript: \"...   \n",
       "897  results {\\n  alternatives {\\n    transcript: \"...   \n",
       "898  results {\\n  alternatives {\\n    transcript: \"...   \n",
       "899  results {\\n  alternatives {\\n    transcript: \"...   \n",
       "900  results {\\n  alternatives {\\n    transcript: \"...   \n",
       "\n",
       "                                         transcription     billed_time  index  \\\n",
       "0    Buongiorno buonasera Bentornata. E bentornati ... 0 days 00:00:30      0   \n",
       "1    Oggi ascoltiamo un episodio Barbero riserva un... 0 days 00:00:30      1   \n",
       "2    Scoppiano le guerre qualche mese fa, quando ab... 0 days 00:00:15      2   \n",
       "3    C'era già un po' il clima che in fondo c'è anc... 0 days 00:00:15      3   \n",
       "4    Notizie dall'ucraina c'era una notizia dall'ir... 0 days 00:00:15      4   \n",
       "..                                                 ...             ...    ...   \n",
       "896  Quel deputato Enoch Powell che era intervenuto... 0 days 00:00:45   1047   \n",
       "897  E poche settimane dopo in un discorso ufficial... 0 days 00:00:15   1048   \n",
       "898  Quello che mi ha elettrizzato davvero dopo ave... 0 days 00:00:45   1049   \n",
       "899  Ecco forse sarebbe stata più sincera, se avess... 0 days 00:00:45   1050   \n",
       "900  Ecco così com'è andare a rivedere in queste tr... 0 days 00:02:15   1051   \n",
       "\n",
       "     barbero                               edited_transcription  \n",
       "0          0  Buongiorno buonasera Bentornata. E bentornati ...  \n",
       "1          0  Oggi ascoltiamo un episodio Barbero riserva un...  \n",
       "2          1  Scoppiano le guerre qualche mese fa, quando ab...  \n",
       "3          1  Zana, c'era già un po' il clima che in fondo c...  \n",
       "4          1  Notizie dall'ucraina c'era una notizia dall'ir...  \n",
       "..       ...                                                ...  \n",
       "896        1  Quel deputato Enoch Powell che era intervenuto...  \n",
       "897        1  E poche settimane dopo in un discorso ufficial...  \n",
       "898        1  Quello che mi ha elettrizzata davvero dopo ave...  \n",
       "899        1  Ecco forse sarebbe stata più sincera, se avess...  \n",
       "900        0  Ecco così com'è andare a rivedere in queste tr...  \n",
       "\n",
       "[901 rows x 12 columns]"
      ]
     },
     "execution_count": 245,
     "metadata": {},
     "output_type": "execute_result"
    }
   ],
   "source": [
    "merged"
   ]
  },
  {
   "cell_type": "code",
   "execution_count": 246,
   "id": "aebde52b-c4dc-4aca-ae94-79654be4413d",
   "metadata": {},
   "outputs": [],
   "source": [
    "merged.to_pickle(\"../data/merged.pkl.gz\")"
   ]
  },
  {
   "cell_type": "code",
   "execution_count": 298,
   "id": "f8286a5f-624f-4495-a606-4c988fa925ab",
   "metadata": {},
   "outputs": [],
   "source": [
    "def write_wavs(row):\n",
    "    path = pathlib.Path(row['path'])\n",
    "    folder = pathlib.Path(f\"/ssd500gb/archivio_barbero/split_wav/{path.parent.name}\")\n",
    "    folder.mkdir(exist_ok=True, parents=True)\n",
    "    output_name = f\"{folder}/{path.stem}.wav\"\n",
    "    chunk = row[\"chunk\"]\n",
    "    chunk.set_frame_rate(16000).export(output_name, format=\"wav\")\n",
    "    return output_name"
   ]
  },
  {
   "cell_type": "code",
   "execution_count": 299,
   "id": "7cc66025-aec4-40c8-bd79-f5fc2e2a4925",
   "metadata": {},
   "outputs": [
    {
     "data": {
      "application/vnd.jupyter.widget-view+json": {
       "model_id": "229823503bc7448eb41081298a0f9d91",
       "version_major": 2,
       "version_minor": 0
      },
      "text/plain": [
       "  0%|          | 0/901 [00:00<?, ?it/s]"
      ]
     },
     "metadata": {},
     "output_type": "display_data"
    }
   ],
   "source": [
    "merged[\"audio_file\"] = merged.progress_apply(write_wavs, axis=1)"
   ]
  },
  {
   "cell_type": "code",
   "execution_count": 264,
   "id": "2b7fd370-9651-42af-8b47-9434cf4c2c38",
   "metadata": {},
   "outputs": [],
   "source": [
    "final = merged[merged[\"barbero\"].astype(bool)][[\"audio_file\", \"edited_transcription\"]].rename(columns={\"edited_transcription\": \"text\"})\n",
    "final[\"audio_file\"] = final[\"audio_file\"].apply(lambda x: pathlib.Path(x).relative_to(pathlib.Path(x).parent.parent))"
   ]
  },
  {
   "cell_type": "markdown",
   "id": "30f01289-2109-49b8-9b5a-7f3530f679c3",
   "metadata": {},
   "source": [
    "# Transcribe numbers"
   ]
  },
  {
   "cell_type": "code",
   "execution_count": 295,
   "id": "2f813c68-39be-4057-8d98-774a586f5e5f",
   "metadata": {},
   "outputs": [],
   "source": [
    "import re\n",
    "from num2words import num2words\n",
    "\n",
    "\n",
    "def transcribe_numbers(row):\n",
    "    text = row[\"text\"]\n",
    "    numbers = re.findall(\"[0-9]+\", text)\n",
    "    if numbers:\n",
    "        for number in numbers:\n",
    "            transcribed = num2words(int(number), lang=\"it\")\n",
    "            text = text.replace(number, transcribed)\n",
    "    return text"
   ]
  },
  {
   "cell_type": "code",
   "execution_count": 296,
   "id": "8d855751-7321-448e-afa0-ad9075b8039a",
   "metadata": {},
   "outputs": [
    {
     "data": {
      "application/vnd.jupyter.widget-view+json": {
       "model_id": "28d338f9b10745048719d9c7af232b0e",
       "version_major": 2,
       "version_minor": 0
      },
      "text/plain": [
       "  0%|          | 0/889 [00:00<?, ?it/s]"
      ]
     },
     "metadata": {},
     "output_type": "display_data"
    }
   ],
   "source": [
    "final[\"text\"] = final.progress_apply(transcribe_numbers, axis=1)"
   ]
  },
  {
   "cell_type": "code",
   "execution_count": 297,
   "id": "ea9b52ff-bfef-4ed5-a5b8-f34031ca4223",
   "metadata": {},
   "outputs": [],
   "source": [
    "final.to_csv(\"../data/audio_metadata.csv\", sep=\"|\", index=False)"
   ]
  }
 ],
 "metadata": {
  "kernelspec": {
   "display_name": "Python 3 (ipykernel)",
   "language": "python",
   "name": "python3"
  },
  "language_info": {
   "codemirror_mode": {
    "name": "ipython",
    "version": 3
   },
   "file_extension": ".py",
   "mimetype": "text/x-python",
   "name": "python",
   "nbconvert_exporter": "python",
   "pygments_lexer": "ipython3",
   "version": "3.10.7"
  }
 },
 "nbformat": 4,
 "nbformat_minor": 5
}
